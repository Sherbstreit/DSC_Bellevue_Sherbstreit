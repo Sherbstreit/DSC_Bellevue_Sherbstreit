{
 "cells": [
  {
   "cell_type": "code",
   "execution_count": 131,
   "metadata": {},
   "outputs": [],
   "source": [
    "# import libraries\n",
    "import pandas as pd\n",
    "import numpy as np\n",
    "import string\n",
    "import re\n",
    "import matplotlib.pyplot as plt\n",
    "from collections import Counter\n",
    "import os"
   ]
  },
  {
   "cell_type": "code",
   "execution_count": 132,
   "metadata": {},
   "outputs": [],
   "source": [
    "# Path modified to locate file on local server\n",
    "# Step 1:  Load data into a dataframe\n",
    "addr1 = \"/Users/saraherbstreit/Documents/week-5/articles1.csv\"\n",
    "articles = pd.read_csv(addr1)"
   ]
  },
  {
   "cell_type": "code",
   "execution_count": 133,
   "metadata": {},
   "outputs": [
    {
     "name": "stdout",
     "output_type": "stream",
     "text": [
      "The dimension of the table is:  (50000, 10)\n"
     ]
    },
    {
     "data": {
      "text/html": [
       "<div>\n",
       "<style scoped>\n",
       "    .dataframe tbody tr th:only-of-type {\n",
       "        vertical-align: middle;\n",
       "    }\n",
       "\n",
       "    .dataframe tbody tr th {\n",
       "        vertical-align: top;\n",
       "    }\n",
       "\n",
       "    .dataframe thead th {\n",
       "        text-align: right;\n",
       "    }\n",
       "</style>\n",
       "<table border=\"1\" class=\"dataframe\">\n",
       "  <thead>\n",
       "    <tr style=\"text-align: right;\">\n",
       "      <th></th>\n",
       "      <th>Unnamed: 0</th>\n",
       "      <th>id</th>\n",
       "      <th>title</th>\n",
       "      <th>publication</th>\n",
       "      <th>author</th>\n",
       "      <th>date</th>\n",
       "      <th>year</th>\n",
       "      <th>month</th>\n",
       "      <th>url</th>\n",
       "      <th>content</th>\n",
       "    </tr>\n",
       "  </thead>\n",
       "  <tbody>\n",
       "    <tr>\n",
       "      <th>0</th>\n",
       "      <td>0</td>\n",
       "      <td>17283</td>\n",
       "      <td>House Republicans Fret About Winning Their Hea...</td>\n",
       "      <td>New York Times</td>\n",
       "      <td>Carl Hulse</td>\n",
       "      <td>2016-12-31</td>\n",
       "      <td>2016.0</td>\n",
       "      <td>12.0</td>\n",
       "      <td>nan</td>\n",
       "      <td>WASHINGTON  —   Congressional Republicans have...</td>\n",
       "    </tr>\n",
       "    <tr>\n",
       "      <th>1</th>\n",
       "      <td>1</td>\n",
       "      <td>17284</td>\n",
       "      <td>Rift Between Officers and Residents as Killing...</td>\n",
       "      <td>New York Times</td>\n",
       "      <td>Benjamin Mueller and Al Baker</td>\n",
       "      <td>2017-06-19</td>\n",
       "      <td>2017.0</td>\n",
       "      <td>6.0</td>\n",
       "      <td>nan</td>\n",
       "      <td>After the bullet shells get counted, the blood...</td>\n",
       "    </tr>\n",
       "    <tr>\n",
       "      <th>2</th>\n",
       "      <td>2</td>\n",
       "      <td>17285</td>\n",
       "      <td>Tyrus Wong, ‘Bambi’ Artist Thwarted by Racial ...</td>\n",
       "      <td>New York Times</td>\n",
       "      <td>Margalit Fox</td>\n",
       "      <td>2017-01-06</td>\n",
       "      <td>2017.0</td>\n",
       "      <td>1.0</td>\n",
       "      <td>nan</td>\n",
       "      <td>When Walt Disney’s “Bambi” opened in 1942, cri...</td>\n",
       "    </tr>\n",
       "    <tr>\n",
       "      <th>3</th>\n",
       "      <td>3</td>\n",
       "      <td>17286</td>\n",
       "      <td>Among Deaths in 2016, a Heavy Toll in Pop Musi...</td>\n",
       "      <td>New York Times</td>\n",
       "      <td>William McDonald</td>\n",
       "      <td>2017-04-10</td>\n",
       "      <td>2017.0</td>\n",
       "      <td>4.0</td>\n",
       "      <td>nan</td>\n",
       "      <td>Death may be the great equalizer, but it isn’t...</td>\n",
       "    </tr>\n",
       "    <tr>\n",
       "      <th>4</th>\n",
       "      <td>4</td>\n",
       "      <td>17287</td>\n",
       "      <td>Kim Jong-un Says North Korea Is Preparing to T...</td>\n",
       "      <td>New York Times</td>\n",
       "      <td>Choe Sang-Hun</td>\n",
       "      <td>2017-01-02</td>\n",
       "      <td>2017.0</td>\n",
       "      <td>1.0</td>\n",
       "      <td>nan</td>\n",
       "      <td>SEOUL, South Korea  —   North Korea’s leader, ...</td>\n",
       "    </tr>\n",
       "  </tbody>\n",
       "</table>\n",
       "</div>"
      ],
      "text/plain": [
       "   Unnamed: 0     id                                              title  \\\n",
       "0           0  17283  House Republicans Fret About Winning Their Hea...   \n",
       "1           1  17284  Rift Between Officers and Residents as Killing...   \n",
       "2           2  17285  Tyrus Wong, ‘Bambi’ Artist Thwarted by Racial ...   \n",
       "3           3  17286  Among Deaths in 2016, a Heavy Toll in Pop Musi...   \n",
       "4           4  17287  Kim Jong-un Says North Korea Is Preparing to T...   \n",
       "\n",
       "      publication                         author        date   year  month  \\\n",
       "0  New York Times                     Carl Hulse  2016-12-31 2016.0   12.0   \n",
       "1  New York Times  Benjamin Mueller and Al Baker  2017-06-19 2017.0    6.0   \n",
       "2  New York Times                   Margalit Fox  2017-01-06 2017.0    1.0   \n",
       "3  New York Times               William McDonald  2017-04-10 2017.0    4.0   \n",
       "4  New York Times                  Choe Sang-Hun  2017-01-02 2017.0    1.0   \n",
       "\n",
       "   url                                            content  \n",
       "0  nan  WASHINGTON  —   Congressional Republicans have...  \n",
       "1  nan  After the bullet shells get counted, the blood...  \n",
       "2  nan  When Walt Disney’s “Bambi” opened in 1942, cri...  \n",
       "3  nan  Death may be the great equalizer, but it isn’t...  \n",
       "4  nan  SEOUL, South Korea  —   North Korea’s leader, ...  "
      ]
     },
     "metadata": {},
     "output_type": "display_data"
    }
   ],
   "source": [
    "# Check number of rows and columns\n",
    "# Step 2:  check the dimension of the table/look at the data\n",
    "print(\"The dimension of the table is: \", articles.shape)\n",
    "\n",
    "# swapped print function for display for easier reading\n",
    "# removed 5 bc redundant, head function returns 5 rows by default\n",
    "display(articles.head())"
   ]
  },
  {
   "cell_type": "code",
   "execution_count": 134,
   "metadata": {},
   "outputs": [
    {
     "name": "stdout",
     "output_type": "stream",
     "text": [
      "Describe Data: \n",
      "\n"
     ]
    },
    {
     "data": {
      "text/html": [
       "<div>\n",
       "<style scoped>\n",
       "    .dataframe tbody tr th:only-of-type {\n",
       "        vertical-align: middle;\n",
       "    }\n",
       "\n",
       "    .dataframe tbody tr th {\n",
       "        vertical-align: top;\n",
       "    }\n",
       "\n",
       "    .dataframe thead th {\n",
       "        text-align: right;\n",
       "    }\n",
       "</style>\n",
       "<table border=\"1\" class=\"dataframe\">\n",
       "  <thead>\n",
       "    <tr style=\"text-align: right;\">\n",
       "      <th></th>\n",
       "      <th>Unnamed: 0</th>\n",
       "      <th>id</th>\n",
       "      <th>year</th>\n",
       "      <th>month</th>\n",
       "      <th>url</th>\n",
       "    </tr>\n",
       "  </thead>\n",
       "  <tbody>\n",
       "    <tr>\n",
       "      <th>count</th>\n",
       "      <td>50000.0</td>\n",
       "      <td>50000.0</td>\n",
       "      <td>50000.0</td>\n",
       "      <td>50000.0</td>\n",
       "      <td>0.0</td>\n",
       "    </tr>\n",
       "    <tr>\n",
       "      <th>mean</th>\n",
       "      <td>25694.4</td>\n",
       "      <td>44432.5</td>\n",
       "      <td>2016.3</td>\n",
       "      <td>5.5</td>\n",
       "      <td>nan</td>\n",
       "    </tr>\n",
       "    <tr>\n",
       "      <th>std</th>\n",
       "      <td>15350.1</td>\n",
       "      <td>15773.6</td>\n",
       "      <td>0.6</td>\n",
       "      <td>3.3</td>\n",
       "      <td>nan</td>\n",
       "    </tr>\n",
       "    <tr>\n",
       "      <th>min</th>\n",
       "      <td>0.0</td>\n",
       "      <td>17283.0</td>\n",
       "      <td>2011.0</td>\n",
       "      <td>1.0</td>\n",
       "      <td>nan</td>\n",
       "    </tr>\n",
       "    <tr>\n",
       "      <th>25%</th>\n",
       "      <td>12500.8</td>\n",
       "      <td>31236.8</td>\n",
       "      <td>2016.0</td>\n",
       "      <td>3.0</td>\n",
       "      <td>nan</td>\n",
       "    </tr>\n",
       "    <tr>\n",
       "      <th>50%</th>\n",
       "      <td>25004.5</td>\n",
       "      <td>43757.5</td>\n",
       "      <td>2016.0</td>\n",
       "      <td>5.0</td>\n",
       "      <td>nan</td>\n",
       "    </tr>\n",
       "    <tr>\n",
       "      <th>75%</th>\n",
       "      <td>38630.2</td>\n",
       "      <td>57479.2</td>\n",
       "      <td>2017.0</td>\n",
       "      <td>8.0</td>\n",
       "      <td>nan</td>\n",
       "    </tr>\n",
       "    <tr>\n",
       "      <th>max</th>\n",
       "      <td>53291.0</td>\n",
       "      <td>73469.0</td>\n",
       "      <td>2017.0</td>\n",
       "      <td>12.0</td>\n",
       "      <td>nan</td>\n",
       "    </tr>\n",
       "  </tbody>\n",
       "</table>\n",
       "</div>"
      ],
      "text/plain": [
       "       Unnamed: 0      id    year   month  url\n",
       "count     50000.0 50000.0 50000.0 50000.0  0.0\n",
       "mean      25694.4 44432.5  2016.3     5.5  nan\n",
       "std       15350.1 15773.6     0.6     3.3  nan\n",
       "min           0.0 17283.0  2011.0     1.0  nan\n",
       "25%       12500.8 31236.8  2016.0     3.0  nan\n",
       "50%       25004.5 43757.5  2016.0     5.0  nan\n",
       "75%       38630.2 57479.2  2017.0     8.0  nan\n",
       "max       53291.0 73469.0  2017.0    12.0  nan"
      ]
     },
     "metadata": {},
     "output_type": "display_data"
    },
    {
     "name": "stdout",
     "output_type": "stream",
     "text": [
      "\n",
      " Summarized Data: \n",
      "\n"
     ]
    },
    {
     "data": {
      "text/html": [
       "<div>\n",
       "<style scoped>\n",
       "    .dataframe tbody tr th:only-of-type {\n",
       "        vertical-align: middle;\n",
       "    }\n",
       "\n",
       "    .dataframe tbody tr th {\n",
       "        vertical-align: top;\n",
       "    }\n",
       "\n",
       "    .dataframe thead th {\n",
       "        text-align: right;\n",
       "    }\n",
       "</style>\n",
       "<table border=\"1\" class=\"dataframe\">\n",
       "  <thead>\n",
       "    <tr style=\"text-align: right;\">\n",
       "      <th></th>\n",
       "      <th>title</th>\n",
       "      <th>publication</th>\n",
       "      <th>author</th>\n",
       "      <th>date</th>\n",
       "      <th>content</th>\n",
       "    </tr>\n",
       "  </thead>\n",
       "  <tbody>\n",
       "    <tr>\n",
       "      <th>count</th>\n",
       "      <td>50000</td>\n",
       "      <td>50000</td>\n",
       "      <td>43694</td>\n",
       "      <td>50000</td>\n",
       "      <td>50000</td>\n",
       "    </tr>\n",
       "    <tr>\n",
       "      <th>unique</th>\n",
       "      <td>49920</td>\n",
       "      <td>5</td>\n",
       "      <td>3603</td>\n",
       "      <td>983</td>\n",
       "      <td>49888</td>\n",
       "    </tr>\n",
       "    <tr>\n",
       "      <th>top</th>\n",
       "      <td>The 10 most important things in the world righ...</td>\n",
       "      <td>Breitbart</td>\n",
       "      <td>Breitbart News</td>\n",
       "      <td>2016-08-22</td>\n",
       "      <td>advertisement</td>\n",
       "    </tr>\n",
       "    <tr>\n",
       "      <th>freq</th>\n",
       "      <td>7</td>\n",
       "      <td>23781</td>\n",
       "      <td>1559</td>\n",
       "      <td>221</td>\n",
       "      <td>42</td>\n",
       "    </tr>\n",
       "  </tbody>\n",
       "</table>\n",
       "</div>"
      ],
      "text/plain": [
       "                                                    title publication  \\\n",
       "count                                               50000       50000   \n",
       "unique                                              49920           5   \n",
       "top     The 10 most important things in the world righ...   Breitbart   \n",
       "freq                                                    7       23781   \n",
       "\n",
       "                author        date        content  \n",
       "count            43694       50000          50000  \n",
       "unique            3603         983          49888  \n",
       "top     Breitbart News  2016-08-22  advertisement  \n",
       "freq              1559         221             42  "
      ]
     },
     "metadata": {},
     "output_type": "display_data"
    }
   ],
   "source": [
    "# Added decimal formatting bc values had too many\n",
    "pd.options.display.float_format = \"{:.1f}\".format\n",
    "\n",
    "#what type of variables are in the table\n",
    "# adjusted formatting on printed text\n",
    "print(\"Describe Data: \\n\")\n",
    "\n",
    "# swapped print function for display for easier reading\n",
    "display(articles.describe())\n",
    "print(\"\\n Summarized Data: \\n\")\n",
    "display(articles.describe(include=['O']))"
   ]
  },
  {
   "cell_type": "code",
   "execution_count": 135,
   "metadata": {},
   "outputs": [
    {
     "name": "stdout",
     "output_type": "stream",
     "text": [
      "The length of the data is 50000 rows\n"
     ]
    }
   ],
   "source": [
    "# Added context\n",
    "# display length of data\n",
    "print(\"The length of the data is\",len(articles), \"rows\")"
   ]
  },
  {
   "cell_type": "code",
   "execution_count": 136,
   "metadata": {},
   "outputs": [
    {
     "name": "stdout",
     "output_type": "stream",
     "text": [
      "['New York Times' 'Breitbart' 'CNN' 'Business Insider' 'Atlantic']\n"
     ]
    }
   ],
   "source": [
    "#display publishers (publications)\n",
    "print(articles.publication.unique())"
   ]
  },
  {
   "cell_type": "code",
   "execution_count": 137,
   "metadata": {},
   "outputs": [
    {
     "name": "stdout",
     "output_type": "stream",
     "text": [
      "The earliest published article in this dataframe is 2011\n",
      "The most recently published article in this dataframe is 2017\n"
     ]
    }
   ],
   "source": [
    "# added context\n",
    "# remove decimal from years\n",
    "articles.year = articles.year.apply(int)\n",
    "\n",
    "#display min, max of years published\n",
    "print(\"The earliest published article in this dataframe is\",\n",
    "      articles['year'].min())\n",
    "print(\"The most recently published article in this dataframe is\",\n",
    "      articles['year'].max())"
   ]
  },
  {
   "cell_type": "code",
   "execution_count": 138,
   "metadata": {},
   "outputs": [
    {
     "name": "stdout",
     "output_type": "stream",
     "text": [
      "The number of articles each year are: \n",
      "\n",
      "2016    28451\n",
      "2017    17908\n",
      "2015     3326\n",
      "2013      212\n",
      "2014       76\n",
      "2012       26\n",
      "2011        1\n",
      "Name: year, dtype: int64\n"
     ]
    }
   ],
   "source": [
    "# added context\n",
    "# adjusted formatting\n",
    "#display how many articles from each year\n",
    "print(\"The number of articles each year are: \\n\",\n",
    "      articles['year'].value_counts(),sep='\\n')"
   ]
  },
  {
   "cell_type": "code",
   "execution_count": 139,
   "metadata": {},
   "outputs": [
    {
     "data": {
      "image/png": "[encoded data removed]",
      "text/plain": [
       "<Figure size 720x576 with 1 Axes>"
      ]
     },
     "metadata": {
      "needs_background": "light"
     },
     "output_type": "display_data"
    }
   ],
   "source": [
    "# broke up line for readability\n",
    "# reduced graph size to fit screen\n",
    "#Step 3:  Create some bar charts to show articles\n",
    "# display bar chart of articles sorted by Publication Name\n",
    "ax = (articles['publication'].value_counts().sort_index()\n",
    "      .plot(kind='bar', fontsize=14, figsize=(10,8)))\n",
    "\n",
    "ax.set_title('Article Publication\\n', fontsize=20)\n",
    "ax.set_xlabel('Publication', fontsize=18)\n",
    "ax.set_ylabel('Count', fontsize=18);\n",
    "plt.show()"
   ]
  },
  {
   "cell_type": "code",
   "execution_count": 140,
   "metadata": {},
   "outputs": [
    {
     "data": {
      "image/png": "[encoded data removed]",
      "text/plain": [
       "<Figure size 720x576 with 1 Axes>"
      ]
     },
     "metadata": {
      "needs_background": "light"
     },
     "output_type": "display_data"
    }
   ],
   "source": [
    "# adjusted verbage, reduced graph size to fit screen\n",
    "#display bar chart of articles sorted by counts\n",
    "ax = articles['publication'].value_counts().plot(kind='bar',\n",
    "                                                 fontsize=14, figsize=(10,8))\n",
    "ax.set_title('Article Count - highest to lowest\\n', fontsize=20)\n",
    "ax.set_xlabel('Publication', fontsize=18)\n",
    "ax.set_ylabel('Count', fontsize=18);\n",
    "plt.show()"
   ]
  },
  {
   "cell_type": "code",
   "execution_count": 141,
   "metadata": {},
   "outputs": [],
   "source": [
    "#Step 4:  clean text:  no punctuation/all lowercase\n",
    "def clean_text(article):\n",
    "    clean1 = re.sub(r'['+string.punctuation + '’—”'+']', \"\", article.lower())\n",
    "    return re.sub(r'\\W+', ' ', clean1)"
   ]
  },
  {
   "cell_type": "code",
   "execution_count": 142,
   "metadata": {},
   "outputs": [
    {
     "name": "stdout",
     "output_type": "stream",
     "text": [
      "clean text: \n",
      "\n",
      "0    washington congressional republicans have a ne...\n",
      "1    after the bullet shells get counted the blood ...\n",
      "2    when walt disneys bambi opened in 1942 critics...\n",
      "3    death may be the great equalizer but it isnt n...\n",
      "4    seoul south korea north koreas leader kim said...\n",
      "Name: tokenized, dtype: object\n"
     ]
    }
   ],
   "source": [
    "# These strings are not tokenized, they are cleaned.\n",
    "articles['tokenized'] = articles['content'].map(lambda x: clean_text(x))\n",
    "print(\"clean text: \\n\",articles['tokenized'].head(),sep='\\n')"
   ]
  },
  {
   "cell_type": "code",
   "execution_count": 143,
   "metadata": {},
   "outputs": [
    {
     "name": "stdout",
     "output_type": "stream",
     "text": [
      "Mean number words: 636\n",
      "Min number words: 0\n",
      "Max number words: 24736\n"
     ]
    }
   ],
   "source": [
    "#look at mean, min, max article lengths\n",
    "articles['num_wds'] = articles['tokenized'].apply(lambda x: len(x.split()))\n",
    "\n",
    "# remove decimals\n",
    "mean_wds = articles['num_wds'].mean()\n",
    "print(\"Mean number words:\", int(mean_wds))\n",
    "print(\"Min number words:\",articles['num_wds'].min())\n",
    "print(\"Max number words:\",articles['num_wds'].max())"
   ]
  },
  {
   "cell_type": "code",
   "execution_count": 144,
   "metadata": {},
   "outputs": [
    {
     "name": "stdout",
     "output_type": "stream",
     "text": [
      "There are 65 articles with no words\n"
     ]
    }
   ],
   "source": [
    "# add context\n",
    "# Count number of articles in df with no words\n",
    "print(\"There are\",len(articles[articles['num_wds']==0]), \n",
    "                     \"articles with no words\")"
   ]
  },
  {
   "cell_type": "code",
   "execution_count": 158,
   "metadata": {},
   "outputs": [
    {
     "name": "stdout",
     "output_type": "stream",
     "text": [
      "After removing articles with no words:\n",
      "the new mean is: 637\n",
      "the new min is: 1\n"
     ]
    }
   ],
   "source": [
    "# keep only articles with words\n",
    "print(\"After removing articles with no words:\")\n",
    "articles = articles[articles['num_wds']>0]\n",
    "mean_wds = articles['num_wds'].mean()\n",
    "print(\"the new mean is:\", int(mean_wds))\n",
    "print(\"the new min is:\",articles['num_wds'].min())"
   ]
  },
  {
   "cell_type": "code",
   "execution_count": 156,
   "metadata": {},
   "outputs": [
    {
     "data": {
      "image/png": "[encoded data removed]",
      "text/plain": [
       "<Figure size 720x576 with 1 Axes>"
      ]
     },
     "metadata": {
      "needs_background": "light"
     },
     "output_type": "display_data"
    }
   ],
   "source": [
    "#Step 6:  Check for Outliers:  show bar graph of outliers\n",
    "ax=articles['num_wds'].plot(kind='hist', bins=50, fontsize=14, figsize=(10,8))\n",
    "ax.set_title('Article Length in Words\\n', fontsize=20)\n",
    "ax.set_ylabel('Frequency', fontsize=18)\n",
    "\n",
    "# reduced y axis scale to visualize outliers\n",
    "plt.ylim(0, 400)\n",
    "ax.set_xlabel('Number of Words', fontsize=18);\n",
    "plt.show()"
   ]
  }
 ],
 "metadata": {
  "kernelspec": {
   "display_name": "Python 3",
   "language": "python",
   "name": "python3"
  },
  "language_info": {
   "codemirror_mode": {
    "name": "ipython",
    "version": 3
   },
   "file_extension": ".py",
   "mimetype": "text/x-python",
   "name": "python",
   "nbconvert_exporter": "python",
   "pygments_lexer": "ipython3",
   "version": "3.7.4"
  }
 },
 "nbformat": 4,
 "nbformat_minor": 2
}
