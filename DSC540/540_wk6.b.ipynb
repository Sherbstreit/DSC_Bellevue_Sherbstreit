{
 "cells": [
  {
   "cell_type": "code",
   "execution_count": 1,
   "metadata": {},
   "outputs": [],
   "source": [
    "import sqlite3"
   ]
  },
  {
   "cell_type": "code",
   "execution_count": 96,
   "metadata": {},
   "outputs": [],
   "source": [
    "# create query parameters\n",
    "query = \"\"\"\n",
    "CREATE TABLE info\n",
    "(name VARCHAR(20), address VARCHAR(20),\n",
    "city VARCHAR(20), state VARCHAR(20),\n",
    "zip INT, phone INT\n",
    ");\"\"\""
   ]
  },
  {
   "cell_type": "code",
   "execution_count": 97,
   "metadata": {},
   "outputs": [],
   "source": [
    "# variable to connect\n",
    "con = sqlite3.connect('mydata.sqlite')"
   ]
  },
  {
   "cell_type": "code",
   "execution_count": 98,
   "metadata": {},
   "outputs": [
    {
     "data": {
      "text/plain": [
       "<sqlite3.Cursor at 0x11f56b1f0>"
      ]
     },
     "execution_count": 98,
     "metadata": {},
     "output_type": "execute_result"
    }
   ],
   "source": [
    "# connect query\n",
    "con.execute(query)"
   ]
  },
  {
   "cell_type": "code",
   "execution_count": 99,
   "metadata": {},
   "outputs": [],
   "source": [
    "# commit query\n",
    "con.commit()"
   ]
  },
  {
   "cell_type": "code",
   "execution_count": 100,
   "metadata": {},
   "outputs": [],
   "source": [
    "# make data\n",
    "data = [('Sara Herbstreit', '2406 Bellevue', 'Maplewood', 'MO', 63143, 3144825481),\n",
    "       ('Brad Apple', '3422 Dravel', 'St. Louis', 'MO', 63153, 3145185481),\n",
    "       ('Mike Smith', '2226 Treadway', 'St. Louis', 'MO', 61243, 3144324532),\n",
    "       ('Matt Linden', '2456 Gaslight', 'St. Louis', 'MO', 63213, 3146589903),\n",
    "       ('Jennifer Linden', '2456 Gaslight', 'St. Louis', 'MO', 63213, 6369643487),\n",
    "       ('Becky Oscar', '2974 Zenko', 'St. Louis', 'MO', 63145, 3145328876),\n",
    "       ('Mark Bender', '1298 Flight', 'St. Louis', 'MO', 63223, 3147257281),\n",
    "       ('Oliver Johnson', '3453 Bruno', 'Maplewood', 'MO', 63143, 3144059872),\n",
    "       ('Lauren Johnson', '3453 Bruno', 'Maplewood', 'MO', 63143, 3147728977),\n",
    "       ('Jacob Merry', '6273 Christmas', 'St. Louis', 'MO', 63113, 6363429978)]"
   ]
  },
  {
   "cell_type": "code",
   "execution_count": 101,
   "metadata": {},
   "outputs": [],
   "source": [
    "# enter number of parameters in ?\n",
    "stmt = \"INSERT INTO info VALUES(?, ?, ?, ?, ?, ?)\""
   ]
  },
  {
   "cell_type": "code",
   "execution_count": 102,
   "metadata": {},
   "outputs": [
    {
     "data": {
      "text/plain": [
       "<sqlite3.Cursor at 0x11f56bc00>"
      ]
     },
     "execution_count": 102,
     "metadata": {},
     "output_type": "execute_result"
    }
   ],
   "source": [
    "# combine data into query statement\n",
    "con.executemany(stmt, data)"
   ]
  },
  {
   "cell_type": "code",
   "execution_count": 103,
   "metadata": {},
   "outputs": [],
   "source": [
    "# commit\n",
    "con.commit()"
   ]
  },
  {
   "cell_type": "code",
   "execution_count": 104,
   "metadata": {},
   "outputs": [],
   "source": [
    "import pandas as pd"
   ]
  },
  {
   "cell_type": "code",
   "execution_count": 105,
   "metadata": {},
   "outputs": [],
   "source": [
    "import sqlalchemy as sqla"
   ]
  },
  {
   "cell_type": "code",
   "execution_count": 106,
   "metadata": {},
   "outputs": [],
   "source": [
    "# connect to sqlite\n",
    "db = sqla.create_engine('sqlite:///mydata.sqlite')"
   ]
  },
  {
   "cell_type": "code",
   "execution_count": 107,
   "metadata": {},
   "outputs": [
    {
     "data": {
      "text/html": [
       "<div>\n",
       "<style scoped>\n",
       "    .dataframe tbody tr th:only-of-type {\n",
       "        vertical-align: middle;\n",
       "    }\n",
       "\n",
       "    .dataframe tbody tr th {\n",
       "        vertical-align: top;\n",
       "    }\n",
       "\n",
       "    .dataframe thead th {\n",
       "        text-align: right;\n",
       "    }\n",
       "</style>\n",
       "<table border=\"1\" class=\"dataframe\">\n",
       "  <thead>\n",
       "    <tr style=\"text-align: right;\">\n",
       "      <th></th>\n",
       "      <th>name</th>\n",
       "      <th>address</th>\n",
       "      <th>city</th>\n",
       "      <th>state</th>\n",
       "      <th>zip</th>\n",
       "      <th>phone</th>\n",
       "    </tr>\n",
       "  </thead>\n",
       "  <tbody>\n",
       "    <tr>\n",
       "      <th>0</th>\n",
       "      <td>Sara Herbstreit</td>\n",
       "      <td>2406 Bellevue</td>\n",
       "      <td>Maplewood</td>\n",
       "      <td>MO</td>\n",
       "      <td>63143</td>\n",
       "      <td>3144825481</td>\n",
       "    </tr>\n",
       "    <tr>\n",
       "      <th>1</th>\n",
       "      <td>Brad Apple</td>\n",
       "      <td>3422 Dravel</td>\n",
       "      <td>St. Louis</td>\n",
       "      <td>MO</td>\n",
       "      <td>63153</td>\n",
       "      <td>3145185481</td>\n",
       "    </tr>\n",
       "    <tr>\n",
       "      <th>2</th>\n",
       "      <td>Mike Smith</td>\n",
       "      <td>2226 Treadway</td>\n",
       "      <td>St. Louis</td>\n",
       "      <td>MO</td>\n",
       "      <td>61243</td>\n",
       "      <td>3144324532</td>\n",
       "    </tr>\n",
       "    <tr>\n",
       "      <th>3</th>\n",
       "      <td>Matt Linden</td>\n",
       "      <td>2456 Gaslight</td>\n",
       "      <td>St. Louis</td>\n",
       "      <td>MO</td>\n",
       "      <td>63213</td>\n",
       "      <td>3146589903</td>\n",
       "    </tr>\n",
       "    <tr>\n",
       "      <th>4</th>\n",
       "      <td>Jennifer Linden</td>\n",
       "      <td>2456 Gaslight</td>\n",
       "      <td>St. Louis</td>\n",
       "      <td>MO</td>\n",
       "      <td>63213</td>\n",
       "      <td>6369643487</td>\n",
       "    </tr>\n",
       "    <tr>\n",
       "      <th>5</th>\n",
       "      <td>Becky Oscar</td>\n",
       "      <td>2974 Zenko</td>\n",
       "      <td>St. Louis</td>\n",
       "      <td>MO</td>\n",
       "      <td>63145</td>\n",
       "      <td>3145328876</td>\n",
       "    </tr>\n",
       "    <tr>\n",
       "      <th>6</th>\n",
       "      <td>Mark Bender</td>\n",
       "      <td>1298 Flight</td>\n",
       "      <td>St. Louis</td>\n",
       "      <td>MO</td>\n",
       "      <td>63223</td>\n",
       "      <td>3147257281</td>\n",
       "    </tr>\n",
       "    <tr>\n",
       "      <th>7</th>\n",
       "      <td>Oliver Johnson</td>\n",
       "      <td>3453 Bruno</td>\n",
       "      <td>Maplewood</td>\n",
       "      <td>MO</td>\n",
       "      <td>63143</td>\n",
       "      <td>3144059872</td>\n",
       "    </tr>\n",
       "    <tr>\n",
       "      <th>8</th>\n",
       "      <td>Lauren Johnson</td>\n",
       "      <td>3453 Bruno</td>\n",
       "      <td>Maplewood</td>\n",
       "      <td>MO</td>\n",
       "      <td>63143</td>\n",
       "      <td>3147728977</td>\n",
       "    </tr>\n",
       "    <tr>\n",
       "      <th>9</th>\n",
       "      <td>Jacob Merry</td>\n",
       "      <td>6273 Christmas</td>\n",
       "      <td>St. Louis</td>\n",
       "      <td>MO</td>\n",
       "      <td>63113</td>\n",
       "      <td>6363429978</td>\n",
       "    </tr>\n",
       "  </tbody>\n",
       "</table>\n",
       "</div>"
      ],
      "text/plain": [
       "              name         address       city state    zip       phone\n",
       "0  Sara Herbstreit   2406 Bellevue  Maplewood    MO  63143  3144825481\n",
       "1       Brad Apple     3422 Dravel  St. Louis    MO  63153  3145185481\n",
       "2       Mike Smith   2226 Treadway  St. Louis    MO  61243  3144324532\n",
       "3      Matt Linden   2456 Gaslight  St. Louis    MO  63213  3146589903\n",
       "4  Jennifer Linden   2456 Gaslight  St. Louis    MO  63213  6369643487\n",
       "5      Becky Oscar      2974 Zenko  St. Louis    MO  63145  3145328876\n",
       "6      Mark Bender     1298 Flight  St. Louis    MO  63223  3147257281\n",
       "7   Oliver Johnson      3453 Bruno  Maplewood    MO  63143  3144059872\n",
       "8   Lauren Johnson      3453 Bruno  Maplewood    MO  63143  3147728977\n",
       "9      Jacob Merry  6273 Christmas  St. Louis    MO  63113  6363429978"
      ]
     },
     "execution_count": 107,
     "metadata": {},
     "output_type": "execute_result"
    }
   ],
   "source": [
    "# read table from sqlite\n",
    "pd.read_sql('select * from info', db)"
   ]
  },
  {
   "cell_type": "code",
   "execution_count": null,
   "metadata": {},
   "outputs": [],
   "source": []
  }
 ],
 "metadata": {
  "kernelspec": {
   "display_name": "Python 3",
   "language": "python",
   "name": "python3"
  },
  "language_info": {
   "codemirror_mode": {
    "name": "ipython",
    "version": 3
   },
   "file_extension": ".py",
   "mimetype": "text/x-python",
   "name": "python",
   "nbconvert_exporter": "python",
   "pygments_lexer": "ipython3",
   "version": "3.8.3"
  }
 },
 "nbformat": 4,
 "nbformat_minor": 4
}
