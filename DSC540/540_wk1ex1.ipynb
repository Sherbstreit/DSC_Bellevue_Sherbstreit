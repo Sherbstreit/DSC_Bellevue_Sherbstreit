{
 "cells": [
  {
   "cell_type": "code",
   "execution_count": 1,
   "metadata": {},
   "outputs": [],
   "source": [
    "list1 = [34,12,89,1]"
   ]
  },
  {
   "cell_type": "code",
   "execution_count": 2,
   "metadata": {},
   "outputs": [
    {
     "data": {
      "text/plain": [
       "89"
      ]
     },
     "execution_count": 2,
     "metadata": {},
     "output_type": "execute_result"
    }
   ],
   "source": [
    "# index 2\n",
    "list1[2]"
   ]
  },
  {
   "cell_type": "code",
   "execution_count": 3,
   "metadata": {},
   "outputs": [
    {
     "data": {
      "text/plain": [
       "1"
      ]
     },
     "execution_count": 3,
     "metadata": {},
     "output_type": "execute_result"
    }
   ],
   "source": [
    "# last index\n",
    "list1[len(list1)-1]"
   ]
  },
  {
   "cell_type": "code",
   "execution_count": 4,
   "metadata": {},
   "outputs": [
    {
     "data": {
      "text/plain": [
       "1"
      ]
     },
     "execution_count": 4,
     "metadata": {},
     "output_type": "execute_result"
    }
   ],
   "source": [
    "# easy last index\n",
    "list1[-1]"
   ]
  },
  {
   "cell_type": "code",
   "execution_count": 6,
   "metadata": {},
   "outputs": [
    {
     "data": {
      "text/plain": [
       "[0, 1, 2, 3, 4, 5, 6, 7, 8, 9]"
      ]
     },
     "execution_count": 6,
     "metadata": {},
     "output_type": "execute_result"
    }
   ],
   "source": [
    "# create list\n",
    "list1 = []\n",
    "#add numbers\n",
    "for x in range(0,10):\n",
    "    list1.append(x)\n",
    "list1"
   ]
  },
  {
   "cell_type": "code",
   "execution_count": 8,
   "metadata": {},
   "outputs": [
    {
     "data": {
      "text/plain": [
       "[0, 1, 2, 3, 4, 5, 6, 7, 8, 9]"
      ]
     },
     "execution_count": 8,
     "metadata": {},
     "output_type": "execute_result"
    }
   ],
   "source": [
    "# condensed version of creating list\n",
    "list2 = [x for x in range(0,10)]\n",
    "list2"
   ]
  },
  {
   "cell_type": "code",
   "execution_count": 11,
   "metadata": {},
   "outputs": [
    {
     "data": {
      "text/plain": [
       "[0, 5, 10, 15]"
      ]
     },
     "execution_count": 11,
     "metadata": {},
     "output_type": "execute_result"
    }
   ],
   "source": [
    "# Create list in range divisible by 5\n",
    "list3 = [x for x in range(0,20) if x % 5 ==0]\n",
    "list3"
   ]
  },
  {
   "cell_type": "code",
   "execution_count": 12,
   "metadata": {},
   "outputs": [
    {
     "data": {
      "text/plain": [
       "[0, 1, 2, 3, 4, 5, 6, 7, 8, 9, 0, 5, 10, 15]"
      ]
     },
     "execution_count": 12,
     "metadata": {},
     "output_type": "execute_result"
    }
   ],
   "source": [
    "# join 2 lists into new list\n",
    "list4 = list2 + list3\n",
    "list4"
   ]
  },
  {
   "cell_type": "code",
   "execution_count": 13,
   "metadata": {},
   "outputs": [
    {
     "data": {
      "text/plain": [
       "[0, 1, 2, 3, 4, 5, 6, 7, 8, 9, 0, 5, 10, 15]"
      ]
     },
     "execution_count": 13,
     "metadata": {},
     "output_type": "execute_result"
    }
   ],
   "source": [
    "# add one list to the other permanently\n",
    "list1.extend(list3)\n",
    "list1"
   ]
  },
  {
   "cell_type": "code",
   "execution_count": 16,
   "metadata": {},
   "outputs": [
    {
     "name": "stdout",
     "output_type": "stream",
     "text": [
      "0\n",
      "1\n",
      "2\n",
      "3\n",
      "4\n",
      "5\n",
      "6\n",
      "7\n",
      "8\n",
      "9\n"
     ]
    }
   ],
   "source": [
    "# iterate over list\n",
    "list1 = [x for x in range(0,10)]\n",
    "for i in list1:\n",
    "    print(i)"
   ]
  },
  {
   "cell_type": "code",
   "execution_count": 17,
   "metadata": {},
   "outputs": [
    {
     "data": {
      "text/plain": [
       "False"
      ]
     },
     "execution_count": 17,
     "metadata": {},
     "output_type": "execute_result"
    }
   ],
   "source": [
    "# Check for specific values\n",
    "10 in list1"
   ]
  },
  {
   "cell_type": "code",
   "execution_count": 18,
   "metadata": {},
   "outputs": [
    {
     "data": {
      "text/plain": [
       "True"
      ]
     },
     "execution_count": 18,
     "metadata": {},
     "output_type": "execute_result"
    }
   ],
   "source": [
    "8 in list1"
   ]
  },
  {
   "cell_type": "code",
   "execution_count": 21,
   "metadata": {},
   "outputs": [
    {
     "data": {
      "text/plain": [
       "[9, 8, 7, 6, 5, 4, 3, 2, 1, 0]"
      ]
     },
     "execution_count": 21,
     "metadata": {},
     "output_type": "execute_result"
    }
   ],
   "source": [
    "# reverse list order\n",
    "list1.reverse()\n",
    "list1"
   ]
  },
  {
   "cell_type": "code",
   "execution_count": 23,
   "metadata": {},
   "outputs": [
    {
     "data": {
      "text/plain": [
       "[22,\n",
       " 5,\n",
       " 19,\n",
       " 2,\n",
       " 14,\n",
       " 5,\n",
       " 20,\n",
       " 30,\n",
       " 5,\n",
       " 12,\n",
       " 23,\n",
       " 16,\n",
       " 8,\n",
       " 19,\n",
       " 11,\n",
       " 28,\n",
       " 27,\n",
       " 1,\n",
       " 4,\n",
       " 16,\n",
       " 11,\n",
       " 10,\n",
       " 29,\n",
       " 10,\n",
       " 13,\n",
       " 26,\n",
       " 14,\n",
       " 3,\n",
       " 7,\n",
       " 11,\n",
       " 23,\n",
       " 11,\n",
       " 14,\n",
       " 5,\n",
       " 16,\n",
       " 5,\n",
       " 15,\n",
       " 20,\n",
       " 27,\n",
       " 3,\n",
       " 22,\n",
       " 28,\n",
       " 28,\n",
       " 1,\n",
       " 17,\n",
       " 29,\n",
       " 2,\n",
       " 17,\n",
       " 18,\n",
       " 17,\n",
       " 22,\n",
       " 24,\n",
       " 15,\n",
       " 13,\n",
       " 6,\n",
       " 27,\n",
       " 1,\n",
       " 27,\n",
       " 22,\n",
       " 25,\n",
       " 20,\n",
       " 1,\n",
       " 22,\n",
       " 18,\n",
       " 9,\n",
       " 0,\n",
       " 24,\n",
       " 2,\n",
       " 0,\n",
       " 22,\n",
       " 9,\n",
       " 7,\n",
       " 17,\n",
       " 17,\n",
       " 29,\n",
       " 28,\n",
       " 7,\n",
       " 23,\n",
       " 5,\n",
       " 28,\n",
       " 9,\n",
       " 4,\n",
       " 28,\n",
       " 30,\n",
       " 30,\n",
       " 21,\n",
       " 12,\n",
       " 9,\n",
       " 26,\n",
       " 13,\n",
       " 23,\n",
       " 18,\n",
       " 26,\n",
       " 0,\n",
       " 9,\n",
       " 30,\n",
       " 21,\n",
       " 3,\n",
       " 26,\n",
       " 13]"
      ]
     },
     "execution_count": 23,
     "metadata": {},
     "output_type": "execute_result"
    }
   ],
   "source": [
    "# Creating random list\n",
    "import random\n",
    "list1 = [random.randint(0,30) for x in range(0,100)]\n",
    "list1"
   ]
  },
  {
   "cell_type": "code",
   "execution_count": null,
   "metadata": {},
   "outputs": [],
   "source": []
  }
 ],
 "metadata": {
  "kernelspec": {
   "display_name": "Python 3",
   "language": "python",
   "name": "python3"
  },
  "language_info": {
   "codemirror_mode": {
    "name": "ipython",
    "version": 3
   },
   "file_extension": ".py",
   "mimetype": "text/x-python",
   "name": "python",
   "nbconvert_exporter": "python",
   "pygments_lexer": "ipython3",
   "version": "3.7.4"
  }
 },
 "nbformat": 4,
 "nbformat_minor": 2
}
