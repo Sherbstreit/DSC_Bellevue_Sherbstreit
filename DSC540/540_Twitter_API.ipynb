{
 "cells": [
  {
   "cell_type": "code",
   "execution_count": 4,
   "metadata": {},
   "outputs": [],
   "source": [
    "import twitter\n",
    "import json"
   ]
  },
  {
   "cell_type": "code",
   "execution_count": 6,
   "metadata": {},
   "outputs": [],
   "source": [
    "# open json containing api and token keys, assign to variables\n",
    "with open('Twitterkey.json') as f:\n",
    "    keys = json.load(f)\n",
    "    api = keys['api_key']\n",
    "    secret_api = keys['secret_api_key']\n",
    "    token = keys['access_token']\n",
    "    secret_token = keys['secret_token']"
   ]
  },
  {
   "cell_type": "code",
   "execution_count": 7,
   "metadata": {},
   "outputs": [],
   "source": [
    "# fill out information to access twitter\n",
    "t = twitter.Api(consumer_key = api,\n",
    "                consumer_secret = secret_api,\n",
    "                access_token_key = token,\n",
    "                access_token_secret = secret_token)"
   ]
  },
  {
   "cell_type": "code",
   "execution_count": 8,
   "metadata": {},
   "outputs": [],
   "source": [
    "# search Twitter for recent data science tweets\n",
    "results = t.GetSearch(\n",
    "    raw_query=\"q=data+science%20&result_type=recent&since=2014-07-19&count=100\")"
   ]
  },
  {
   "cell_type": "code",
   "execution_count": 9,
   "metadata": {},
   "outputs": [
    {
     "data": {
      "text/plain": [
       "[Status(ID=1327738332101697537, ScreenName=DataScienceCtrl, Created=Sat Nov 14 22:21:01 +0000 2020, Text='Useful Tips to Begin a Career in Data Science\\xa0 https://t.co/HNn0pOyIx7'),\n",
       " Status(ID=1327738280310431744, ScreenName=vizvolitel, Created=Sat Nov 14 22:20:48 +0000 2020, Text='@Chaotic_steven @ComputerChick0 Though I\\'m sure you consider a screenshot from \"https://t.co/kRwajuohOb\" to be a hi… https://t.co/eGiHSm1YK0'),\n",
       " Status(ID=1327738261071130634, ScreenName=Dscfutabot, Created=Sat Nov 14 22:20:44 +0000 2020, Text='RT @NewDayForNJ: I’ve been in data science for over 20 years—believe me when I say the term ‘broken algorithm’ is a BIG deal &amp; it’s been do…'),\n",
       " Status(ID=1327738095178043392, ScreenName=lera_miles, Created=Sat Nov 14 22:20:04 +0000 2020, Text='RT @Aerin_J: JOB: @Y2Y_Initiative conservation science intern\\n\\n* Jan-July 2021 (remote, full time)\\n* Wildlife &amp; recreation ecology\\n* GIS &amp;…'),\n",
       " Status(ID=1327738069173346305, ScreenName=Observe11565685, Created=Sat Nov 14 22:19:58 +0000 2020, Text='RT @NewDayForNJ: I’ve been in data science for over 20 years—believe me when I say the term ‘broken algorithm’ is a BIG deal &amp; it’s been do…'),\n",
       " Status(ID=1327738031034404864, ScreenName=epuujee, Created=Sat Nov 14 22:19:49 +0000 2020, Text='RT @CompoundDaily: Nov.13 -- Climate change is the defining story of our time. Bloomberg Green brings you the news, science, and data to un…'),\n",
       " Status(ID=1327737994552414208, ScreenName=CompoundDaily, Created=Sat Nov 14 22:19:40 +0000 2020, Text='Nov.13 -- Climate change is the defining story of our time. Bloomberg Green brings you the news, science, and data… https://t.co/sD3zU5USLz'),\n",
       " Status(ID=1327737993214316544, ScreenName=veraangie11, Created=Sat Nov 14 22:19:40 +0000 2020, Text='RT @NewDayForNJ: I’ve been in data science for over 20 years—believe me when I say the term ‘broken algorithm’ is a BIG deal &amp; it’s been do…'),\n",
       " Status(ID=1327737943658729478, ScreenName=stcministries, Created=Sat Nov 14 22:19:28 +0000 2020, Text='RT @NewDayForNJ: I’ve been in data science for over 20 years—believe me when I say the term ‘broken algorithm’ is a BIG deal &amp; it’s been do…'),\n",
       " Status(ID=1327737935723171840, ScreenName=CodeGnuts, Created=Sat Nov 14 22:19:26 +0000 2020, Text='RT @ml_india_: Essential data science skills that no one talks about: https://t.co/j6UmdEIIis\\n\\n#BigData #Analytics #DataScience #AI #Artifi…'),\n",
       " Status(ID=1327737859734863872, ScreenName=epuujee, Created=Sat Nov 14 22:19:08 +0000 2020, Text=\"RT @Jelloschotz: Did we lockdown for; Ebola, SARS, Swine Flu, etc...??\\nThe science &amp; data shows lockdowns/masks do more harm than good.\\nIt'…\"),\n",
       " Status(ID=1327737829548576772, ScreenName=Jelloschotz, Created=Sat Nov 14 22:19:01 +0000 2020, Text='Did we lockdown for; Ebola, SARS, Swine Flu, etc...??\\nThe science &amp; data shows lockdowns/masks do more harm than go… https://t.co/m9zW1m4rem'),\n",
       " Status(ID=1327737323065262081, ScreenName=epuujee, Created=Sat Nov 14 22:17:00 +0000 2020, Text='RT @MarkkraM81: There’s a covid-19 vaccine its called being metabolically healthy ! Science and data clearly show this . Why isn’t this bei…'),\n",
       " Status(ID=1327737293172584448, ScreenName=MarkkraM81, Created=Sat Nov 14 22:16:53 +0000 2020, Text='There’s a covid-19 vaccine its called being metabolically healthy ! Science and data clearly show this . Why isn’t… https://t.co/S5lQq3MY1M'),\n",
       " Status(ID=1327737249350385664, ScreenName=epuujee, Created=Sat Nov 14 22:16:43 +0000 2020, Text='RT @ForumAtheist: Yep. All Arguments with theist are \"god of the gaps\". They find an area in science where there is always incomplete data,…'),\n",
       " Status(ID=1327737219608686593, ScreenName=D_BlackSkeptic, Created=Sat Nov 14 22:16:35 +0000 2020, Text='RT @ForumAtheist: Yep. All Arguments with theist are \"god of the gaps\". They find an area in science where there is always incomplete data,…'),\n",
       " Status(ID=1327737147231674368, ScreenName=jwsadauskas, Created=Sat Nov 14 22:16:18 +0000 2020, Text='RT @NewDayForNJ: I’ve been in data science for over 20 years—believe me when I say the term ‘broken algorithm’ is a BIG deal &amp; it’s been do…'),\n",
       " Status(ID=1327736997516079110, ScreenName=BlkHwk0ps, Created=Sat Nov 14 22:15:43 +0000 2020, Text='RT @Aditics2: Python required for AI, Machine Learning &amp; Data Science 2021 #DeepLearning #learning #ui via https://t.co/UF63LtFeQC https://…'),\n",
       " Status(ID=1327736957212925953, ScreenName=epuujee, Created=Sat Nov 14 22:15:33 +0000 2020, Text='RT @Aditics2: Python required for AI, Machine Learning &amp; Data Science 2021 #DeepLearning #learning #ui via https://t.co/UF63LtFeQC https://…'),\n",
       " Status(ID=1327736949570990081, ScreenName=ML_Tweet_Bot, Created=Sat Nov 14 22:15:31 +0000 2020, Text='RT @Aditics2: Python required for AI, Machine Learning &amp; Data Science 2021 #DeepLearning #learning #ui via https://t.co/UF63LtFeQC https://…'),\n",
       " Status(ID=1327736927555084288, ScreenName=Aditics2, Created=Sat Nov 14 22:15:26 +0000 2020, Text='Python required for AI, Machine Learning &amp; Data Science 2021 #DeepLearning #learning #ui via https://t.co/UF63LtFeQC https://t.co/befNjNGaCe'),\n",
       " Status(ID=1327736896756191233, ScreenName=epuujee, Created=Sat Nov 14 22:15:19 +0000 2020, Text='RT @MuckZuckerburg: WHAP. COINS. PEE. IS BIRDS. BOBBIN SCRABBLE CONSTIPATION ANTHRAX STUPID GEOGRAPHY ANDROID VENMO DEEP LEARNING CASHAPP B…'),\n",
       " Status(ID=1327736867375120384, ScreenName=epuujee, Created=Sat Nov 14 22:15:11 +0000 2020, Text='RT @UofT_TCAIREM: Dr. Muhammad Mamdani speaks next at the Data Science Speaker Series @UofT! He is director of the newly established @UofT_…'),\n",
       " Status(ID=1327736866964082688, ScreenName=MuckZuckerburg, Created=Sat Nov 14 22:15:11 +0000 2020, Text='WHAP. COINS. PEE. IS BIRDS. BOBBIN SCRABBLE CONSTIPATION ANTHRAX STUPID GEOGRAPHY ANDROID VENMO DEEP LEARNING CASHA… https://t.co/V1TFjl48KN'),\n",
       " Status(ID=1327736839449538560, ScreenName=MarkkraM81, Created=Sat Nov 14 22:15:05 +0000 2020, Text='@JoeBiden There’s a vaccine Joe , its called being metabolically healthy ! Science and data clearly show this . Why… https://t.co/TCdvFwkCWe'),\n",
       " Status(ID=1327736835678871558, ScreenName=_Belleeeeeeee, Created=Sat Nov 14 22:15:04 +0000 2020, Text='RT @why_two_wit: @lisahagan101 I’m ready to listen to a president who is transparent, shares real data and plans with the nation.\\n\\nI’m read…'),\n",
       " Status(ID=1327736831807406080, ScreenName=UofT_TCAIREM, Created=Sat Nov 14 22:15:03 +0000 2020, Text='Dr. Muhammad Mamdani speaks next at the Data Science Speaker Series @UofT! He is director of the newly established… https://t.co/0FbL4RQRxP'),\n",
       " Status(ID=1327736829135695872, ScreenName=NunoNegres, Created=Sat Nov 14 22:15:02 +0000 2020, Text='RT @Aerin_J: JOB: @Y2Y_Initiative conservation science intern\\n\\n* Jan-July 2021 (remote, full time)\\n* Wildlife &amp; recreation ecology\\n* GIS &amp;…'),\n",
       " Status(ID=1327736811754385408, ScreenName=desertdwellers, Created=Sat Nov 14 22:14:58 +0000 2020, Text='RT @cezaron: Former Chief Science Officer for Pfizer Says \"Second Wave\" Faked on False-Positive COVID Tests, \"Pandemic is Over\" https://t.c…'),\n",
       " Status(ID=1327736719249084416, ScreenName=epuujee, Created=Sat Nov 14 22:14:36 +0000 2020, Text='RT @bernardoffmann: Interesting article: Data Quality at Airbnb. Part 1\\u200a—\\u200aRebuilding at Scale | by Jonathan Parks | Airbnb Engineering &amp; Da…'),\n",
       " Status(ID=1327736689268318210, ScreenName=bernardoffmann, Created=Sat Nov 14 22:14:29 +0000 2020, Text='Interesting article: Data Quality at Airbnb. Part 1\\u200a—\\u200aRebuilding at Scale | by Jonathan Parks | Airbnb Engineering… https://t.co/W5tx5qzMTn'),\n",
       " Status(ID=1327736593017229312, ScreenName=epuujee, Created=Sat Nov 14 22:14:06 +0000 2020, Text=\"RT @MuckZuckerburg: TATTOO THE BOTTLE ARTIFICIAL INTELLIGENCE DATA SCIENCE DIARRHEA MAKE SOMEONE'S DIARRHEA BOWEL FART POO GIVEAWAY DEEP LE…\"),\n",
       " Status(ID=1327736584649654273, ScreenName=epuujee, Created=Sat Nov 14 22:14:04 +0000 2020, Text='RT @Serchs3D: Basics Data Science with Numpy, Pandas and Matplotlib  https://t.co/SZJectflwz'),\n",
       " Status(ID=1327736562709188608, ScreenName=MuckZuckerburg, Created=Sat Nov 14 22:13:59 +0000 2020, Text=\"TATTOO THE BOTTLE ARTIFICIAL INTELLIGENCE DATA SCIENCE DIARRHEA MAKE SOMEONE'S DIARRHEA BOWEL FART POO GIVEAWAY DEE… https://t.co/om7OijHVh9\"),\n",
       " Status(ID=1327736554866040840, ScreenName=Serchs3D, Created=Sat Nov 14 22:13:57 +0000 2020, Text='Basics Data Science with Numpy, Pandas and Matplotlib  https://t.co/SZJectflwz'),\n",
       " Status(ID=1327736526348935170, ScreenName=jthigh, Created=Sat Nov 14 22:13:50 +0000 2020, Text='RT @NewDayForNJ: I’ve been in data science for over 20 years—believe me when I say the term ‘broken algorithm’ is a BIG deal &amp; it’s been do…'),\n",
       " Status(ID=1327736311642550273, ScreenName=PeterJoseph23, Created=Sat Nov 14 22:12:59 +0000 2020, Text='@NYGovCuomo It’s Saturday evening, and you are single handedly crippling our businesses....  Your data/test results… https://t.co/WclpzdHqiN'),\n",
       " Status(ID=1327736283721052172, ScreenName=goats_sir, Created=Sat Nov 14 22:12:52 +0000 2020, Text='RT @NewDayForNJ: I’ve been in data science for over 20 years—believe me when I say the term ‘broken algorithm’ is a BIG deal &amp; it’s been do…'),\n",
       " Status(ID=1327736224459550720, ScreenName=ellz_kira, Created=Sat Nov 14 22:12:38 +0000 2020, Text='@RickABright If you truly believe in science please take a long look at #cytodyn and their super safe with data and… https://t.co/ppN3DfSQmc'),\n",
       " Status(ID=1327736135930429440, ScreenName=epuujee, Created=Sat Nov 14 22:12:17 +0000 2020, Text='RT @MuckZuckerburg: FECES DUNCY CONSTIPATION INTERMITTENT FASTING CONSTIPATION FACEBOOK BAD GAS DATA SCIENCE JAVASCRIPT SHAMANA TATTOO MMOR…'),\n",
       " Status(ID=1327736123779518466, ScreenName=MysticalMAGA, Created=Sat Nov 14 22:12:14 +0000 2020, Text='RT @NewDayForNJ: I’ve been in data science for over 20 years—believe me when I say the term ‘broken algorithm’ is a BIG deal &amp; it’s been do…'),\n",
       " Status(ID=1327736112589144064, ScreenName=epuujee, Created=Sat Nov 14 22:12:12 +0000 2020, Text='RT @VishBurra: Twitter has suspended Richard Baris @Peoples_Pundit \\n\\nI can assure you this isn’t about data, or science, or evidence.\\n\\nThis…'),\n",
       " Status(ID=1327736106327019520, ScreenName=MuckZuckerburg, Created=Sat Nov 14 22:12:10 +0000 2020, Text='FECES DUNCY CONSTIPATION INTERMITTENT FASTING CONSTIPATION FACEBOOK BAD GAS DATA SCIENCE JAVASCRIPT SHAMANA TATTOO… https://t.co/focZRM0cFb'),\n",
       " Status(ID=1327736104296935424, ScreenName=epuujee, Created=Sat Nov 14 22:12:10 +0000 2020, Text=\"RT @neo4j: In this week's #twin4j, Kristof Neys stages a drag-race between Python’s NetworkX package and Neo4j’s Graph Data Science library…\"),\n",
       " Status(ID=1327736080339234819, ScreenName=ThaliaBruno19, Created=Sat Nov 14 22:12:04 +0000 2020, Text='RT @VishBurra: Twitter has suspended Richard Baris @Peoples_Pundit \\n\\nI can assure you this isn’t about data, or science, or evidence.\\n\\nThis…'),\n",
       " Status(ID=1327736073825488897, ScreenName=neo4j, Created=Sat Nov 14 22:12:02 +0000 2020, Text=\"In this week's #twin4j, Kristof Neys stages a drag-race between Python’s NetworkX package and Neo4j’s Graph Data Sc… https://t.co/dhB8OfRSIZ\"),\n",
       " Status(ID=1327736032335441920, ScreenName=CuffeL, Created=Sat Nov 14 22:11:52 +0000 2020, Text='@Mikekav66 @PhysicsIreland Collecting and graphing data is worlds away from watching an Ap spout numbers.  Real sci… https://t.co/bqIslcLM2C'),\n",
       " Status(ID=1327735927234461696, ScreenName=epuujee, Created=Sat Nov 14 22:11:27 +0000 2020, Text='RT @TruthStorm17: @TheDisproof @tgpwlm @Over400ppm @IBergwiesel @jimdtweet @ReckedRik @OfReason23 @NonlinearDarren @RoyPentland @DK25769559…'),\n",
       " Status(ID=1327735896666382336, ScreenName=Jamz129, Created=Sat Nov 14 22:11:20 +0000 2020, Text='RT @TruthStorm17: @TheDisproof @tgpwlm @Over400ppm @IBergwiesel @jimdtweet @ReckedRik @OfReason23 @NonlinearDarren @RoyPentland @DK25769559…'),\n",
       " Status(ID=1327735886209970176, ScreenName=famamfa, Created=Sat Nov 14 22:11:18 +0000 2020, Text='RT @milsvfaj: SO WHEN NOAH WAS DEFUNDED, OUR GOVERNMENT ALSO CUT OFF THE HOPE OF HAVING SCIENCE AND DATA-BASED POLICY THAT CAN PREVENT THE…'),\n",
       " Status(ID=1327735873224445952, ScreenName=ChricarSam, Created=Sat Nov 14 22:11:14 +0000 2020, Text='RT @machinelearnflx: Should high schools teach data science instead of calculus? https://t.co/5Nr1h2hb6x  #DataScience'),\n",
       " Status(ID=1327735854484353025, ScreenName=CodeGnuts, Created=Sat Nov 14 22:11:10 +0000 2020, Text='RT @couponed_code: Python required for AI, Machine Learning &amp; Data Science 2021 \\n\\nhttps://t.co/8eekt2rWRN\\n\\n#DeepLearning #Analytics #DataSc…'),\n",
       " Status(ID=1327735852663881729, ScreenName=AehteshamZ, Created=Sat Nov 14 22:11:10 +0000 2020, Text='RT @risetoflyy: Former Chief Science Officer for Pfizer Says \"Second Wave\" Faked on False-Positive COVID Tests, \"Pandemic is Over\" https://…'),\n",
       " Status(ID=1327735833659658243, ScreenName=ttwrite, Created=Sat Nov 14 22:11:05 +0000 2020, Text=\"RT @NYTScience: A new analysis of data from NASA's Kepler spacecraft reveals that our galaxy is twice as fertile as previously estimated. “…\"),\n",
       " Status(ID=1327735831034023943, ScreenName=a_jeddab, Created=Sat Nov 14 22:11:04 +0000 2020, Text='RT @couponed_code: Python required for AI, Machine Learning &amp; Data Science 2021 \\n\\nhttps://t.co/8eekt2rWRN\\n\\n#DeepLearning #Analytics #DataSc…'),\n",
       " Status(ID=1327735708958777353, ScreenName=dondacamara, Created=Sat Nov 14 22:10:35 +0000 2020, Text='RT @NewDayForNJ: I’ve been in data science for over 20 years—believe me when I say the term ‘broken algorithm’ is a BIG deal &amp; it’s been do…'),\n",
       " Status(ID=1327735671658672128, ScreenName=epuujee, Created=Sat Nov 14 22:10:26 +0000 2020, Text='RT @Sir_Code_A_Lot: @ThomasBurkhartB @silverSpoon Python, since I am doing a lot of Data Science related work.'),\n",
       " Status(ID=1327735655368036352, ScreenName=madsyair, Created=Sat Nov 14 22:10:23 +0000 2020, Text='RT @stanford__ai: How Much Math do I need in Data Science? by Benjamin Obi Tayo, Ph.D. → https://t.co/rUyz5HK8U8 \\n\\n#mw #datascience #machin…'),\n",
       " Status(ID=1327735641979957248, ScreenName=py_data_sci, Created=Sat Nov 14 22:10:19 +0000 2020, Text='RT @Sir_Code_A_Lot: @ThomasBurkhartB @silverSpoon Python, since I am doing a lot of Data Science related work.'),\n",
       " Status(ID=1327735507107790849, ScreenName=epuujee, Created=Sat Nov 14 22:09:47 +0000 2020, Text='RT @EmekaOkoye: I find this amusing.\\n\\nDoes Nigeria have a science &amp; tech vision? What is our plan for AI and Robots? Who is the Robotic &amp; A…'),\n",
       " Status(ID=1327735501412044800, ScreenName=GCWINC2014, Created=Sat Nov 14 22:09:46 +0000 2020, Text='RT @NewDayForNJ: I’ve been in data science for over 20 years—believe me when I say the term ‘broken algorithm’ is a BIG deal &amp; it’s been do…'),\n",
       " Status(ID=1327735475776475142, ScreenName=thabullyone, Created=Sat Nov 14 22:09:40 +0000 2020, Text='RT @EmekaOkoye: I find this amusing.\\n\\nDoes Nigeria have a science &amp; tech vision? What is our plan for AI and Robots? Who is the Robotic &amp; A…'),\n",
       " Status(ID=1327735462379786245, ScreenName=Eaglewolfespiri, Created=Sat Nov 14 22:09:37 +0000 2020, Text='RT @NewDayForNJ: I’ve been in data science for over 20 years—believe me when I say the term ‘broken algorithm’ is a BIG deal &amp; it’s been do…'),\n",
       " Status(ID=1327735460882509824, ScreenName=StevenHTripp1, Created=Sat Nov 14 22:09:36 +0000 2020, Text='RT @NewDayForNJ: I’ve been in data science for over 20 years—believe me when I say the term ‘broken algorithm’ is a BIG deal &amp; it’s been do…'),\n",
       " Status(ID=1327735457896034305, ScreenName=blahdis1, Created=Sat Nov 14 22:09:35 +0000 2020, Text='@Luluflower2020 @theage You are living in fear Lulu. 16 doughnuts over 240,000 negative tests and zero mystery case… https://t.co/mQnihK5GVa'),\n",
       " Status(ID=1327735412895350784, ScreenName=WokenMama, Created=Sat Nov 14 22:09:25 +0000 2020, Text='RT @RealRichardBail: @MABurrowes The data upon which govts justify their covid mandates is manipulated &amp; based on weak science. As for the…'),\n",
       " Status(ID=1327735343270006784, ScreenName=hrpro11, Created=Sat Nov 14 22:09:08 +0000 2020, Text='@realDonaldTrump @NYGovCuomo If it comes at the suggestion, recommendation, hinting, or anything else from #45....… https://t.co/lEdOToCISf'),\n",
       " Status(ID=1327735290170109953, ScreenName=Dijah_dia, Created=Sat Nov 14 22:08:55 +0000 2020, Text='RT @Amate61: Bonsoir je voudrai bien rencontrer des expert dans l’informatique quelque soit le domaine (data science, programmeur, data ana…'),\n",
       " Status(ID=1327735195580116993, ScreenName=Sir_Code_A_Lot, Created=Sat Nov 14 22:08:33 +0000 2020, Text='@ThomasBurkhartB @silverSpoon Python, since I am doing a lot of Data Science related work.'),\n",
       " Status(ID=1327735175057313792, ScreenName=live_to_bike, Created=Sat Nov 14 22:08:28 +0000 2020, Text=\"@Thomas71443554 @trvrb Science isn't a belief system, of course. Being able to change your view of the world in lig… https://t.co/gZ534NgFN7\"),\n",
       " Status(ID=1327734943582216198, ScreenName=SigularityHub, Created=Sat Nov 14 22:07:33 +0000 2020, Text='RT @NewDayForNJ: I’ve been in data science for over 20 years—believe me when I say the term ‘broken algorithm’ is a BIG deal &amp; it’s been do…'),\n",
       " Status(ID=1327734931351592966, ScreenName=marcine81, Created=Sat Nov 14 22:07:30 +0000 2020, Text='RT @JarosawK2: Były dyrektor naukowy firmy Pfizer mówi, że „druga fala” udawała fałszywie dodatnie wyniki testów COVID, „Pandemia się skońc…'),\n",
       " Status(ID=1327734906869387270, ScreenName=Eli_A_Levine, Created=Sat Nov 14 22:07:24 +0000 2020, Text='RT @NewDayForNJ: I’ve been in data science for over 20 years—believe me when I say the term ‘broken algorithm’ is a BIG deal &amp; it’s been do…'),\n",
       " Status(ID=1327734898757660673, ScreenName=Alice_science, Created=Sat Nov 14 22:07:22 +0000 2020, Text='RT @preibischs: The next exciting #I2k2020 tutorial:\\n\\nDo you need to quantify neuronal growth? Dendrite morphology? Axonal projections? Syn…'),\n",
       " Status(ID=1327734769665314817, ScreenName=AthiyaD, Created=Sat Nov 14 22:06:51 +0000 2020, Text='@boramalper where do people practice for data science interviews then'),\n",
       " Status(ID=1327734757346578432, ScreenName=TrianoToni, Created=Sat Nov 14 22:06:48 +0000 2020, Text='RT @NewDayForNJ: I’ve been in data science for over 20 years—believe me when I say the term ‘broken algorithm’ is a BIG deal &amp; it’s been do…'),\n",
       " Status(ID=1327734541767806978, ScreenName=Zaks1000, Created=Sat Nov 14 22:05:57 +0000 2020, Text=\"@machinelearnflx My first reaction: you need calculus for data science... it's a pre requisite. So obviously, calcu… https://t.co/N99SX0T4aj\"),\n",
       " Status(ID=1327734402902683649, ScreenName=BigPandas1, Created=Sat Nov 14 22:05:24 +0000 2020, Text='RT @NewDayForNJ: I’ve been in data science for over 20 years—believe me when I say the term ‘broken algorithm’ is a BIG deal &amp; it’s been do…'),\n",
       " Status(ID=1327734373655998469, ScreenName=Plowboy1232, Created=Sat Nov 14 22:05:17 +0000 2020, Text='RT @NewDayForNJ: I’ve been in data science for over 20 years—believe me when I say the term ‘broken algorithm’ is a BIG deal &amp; it’s been do…'),\n",
       " Status(ID=1327734319343947776, ScreenName=heyjoeycostello, Created=Sat Nov 14 22:05:04 +0000 2020, Text=\"@Boldercris I grew up in a family where 1 of my parents was a federal employee for 35 years. \\n\\nI've studied law in… https://t.co/yuzk5aFv2F\"),\n",
       " Status(ID=1327734311517253632, ScreenName=epuujee, Created=Sat Nov 14 22:05:02 +0000 2020, Text=\"RT @MuckZuckerburg: What's not data science but FEELS like poo?\"),\n",
       " Status(ID=1327734279598534657, ScreenName=MuckZuckerburg, Created=Sat Nov 14 22:04:55 +0000 2020, Text=\"What's not data science but FEELS like poo?\"),\n",
       " Status(ID=1327734273370189824, ScreenName=whntfbfi, Created=Sat Nov 14 22:04:53 +0000 2020, Text='RT @NewDayForNJ: I’ve been in data science for over 20 years—believe me when I say the term ‘broken algorithm’ is a BIG deal &amp; it’s been do…'),\n",
       " Status(ID=1327734239912189952, ScreenName=Zaks1000, Created=Sat Nov 14 22:04:45 +0000 2020, Text='RT @machinelearnflx: Should high schools teach data science instead of calculus? https://t.co/5Nr1h2hb6x  #DataScience'),\n",
       " Status(ID=1327734185612734464, ScreenName=Rosenchild, Created=Sat Nov 14 22:04:32 +0000 2020, Text='RT @DataScienceCtrl: New Book: Automated Data Science and Artificial General Intelligence\\xa0 https://t.co/LHpX2ruaX4')]"
      ]
     },
     "execution_count": 9,
     "metadata": {},
     "output_type": "execute_result"
    }
   ],
   "source": [
    "results"
   ]
  },
  {
   "cell_type": "code",
   "execution_count": null,
   "metadata": {},
   "outputs": [],
   "source": []
  }
 ],
 "metadata": {
  "kernelspec": {
   "display_name": "Python 3",
   "language": "python",
   "name": "python3"
  },
  "language_info": {
   "codemirror_mode": {
    "name": "ipython",
    "version": 3
   },
   "file_extension": ".py",
   "mimetype": "text/x-python",
   "name": "python",
   "nbconvert_exporter": "python",
   "pygments_lexer": "ipython3",
   "version": "3.8.3"
  }
 },
 "nbformat": 4,
 "nbformat_minor": 4
}
