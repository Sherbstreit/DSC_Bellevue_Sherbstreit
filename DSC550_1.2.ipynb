{
 "cells": [
  {
   "cell_type": "code",
   "execution_count": 173,
   "metadata": {},
   "outputs": [],
   "source": [
    "# Sara Herbstreit\n",
    "# DSC550\n",
    "# Assignment 1.2\n",
    "# 6Sep20"
   ]
  },
  {
   "cell_type": "code",
   "execution_count": null,
   "metadata": {},
   "outputs": [],
   "source": [
    "# Import packages\n",
    "import numpy as np\n",
    "import pandas as pd"
   ]
  },
  {
   "cell_type": "code",
   "execution_count": 174,
   "metadata": {
    "pycharm": {
     "name": "#%%\n"
    }
   },
   "outputs": [],
   "source": [
    "# Create array\n",
    "array = np.random.randint(1,501, size=(10,50))"
   ]
  },
  {
   "cell_type": "code",
   "execution_count": 175,
   "metadata": {
    "pycharm": {
     "name": "#%%\n"
    }
   },
   "outputs": [
    {
     "name": "stdout",
     "output_type": "stream",
     "text": [
      "[[416 102 479  11 362  29 443  14 283 399  16  61  49 106 142 271 195 366\n",
      "  343 325  77 154 186 442 147 154 262 437 496  21 250 175 347  94 421 398\n",
      "  137 365 324 129 340  64 278  80 221 394 382 277 383 393]\n",
      " [ 15 465 285 425 390 320 219 470 348 438 439  48 445 150  75 224 154 472\n",
      "  368 271 417 428  33 273  45 464 142 357 395 374 134 323 471  83 327  29\n",
      "  220 362 282 367 205 433 414 136 117 395 225 178  73 313]\n",
      " [358 352 358   1 278 143 441 131 283 336  25 240 437 118   6  85 402 335\n",
      "   54 216 399 250 392 199 308 240  69 230 227  60 402 409 312  42 128  16\n",
      "   43 163 471  29 314 109 274 247  18  55 179 211 259 151]\n",
      " [ 71 427  42 101 314 461 408 162 333 450 440 168 128 199 482 148 448 348\n",
      "  329 270 231 139 382 122 493 308 269 354 135 371 320 459 274 208 376 243\n",
      "  181 205 111 261 120 480 296  17  41 364 333  92 275 292]\n",
      " [498 318 340  22  47 248 416 158 296  80 465 251  79 442 261 465 306 469\n",
      "  116 365 298 267 362 283 352 197 155 283  88 253 245 124 493 239 150 465\n",
      "  387 464 132 441 159  90 250 320  61 484 122  85 240 217]\n",
      " [ 46 196 359 140  92 303 360  98 494 148 254  31  54  41 238 202 420 202\n",
      "   49 115   3 422 290 154  24 129  99 331 298 263 448 326 175 234  57 305\n",
      "  335 205 481 159 412 213 394 345 311 475  76 475 286 178]\n",
      " [105 146 112 260  71 257 244 406  69 213  25 468  35 419 449 303 403 223\n",
      "  355 415 381  46 380 242 242 330 462 108 357 217 195 198 340 102 218 318\n",
      "   12 208 279 441 160 153 468 492 464 128 433  12 218 402]\n",
      " [356  79 369 215  70 148 429 216 305  78  28 231   1 420 259 166 382 393\n",
      "  149 492 489 257 404 168 302 479 316 341 255 425 210 287 347 171 148 451\n",
      "  146 476 323 361  85 345 480 253 291 319 146  13 163  13]\n",
      " [ 78 243 407 205  99 132 388 451 154 469 101 184 319 188 231 415 245 259\n",
      "  101 416 294 418 430 131 338 355 236 341 449 169 445   7  36 447 109 480\n",
      "  323 165 380 477 149 378  25 451  54  71 358 262 376 463]\n",
      " [276  55 438 239 443 499 187 323 208 203 411 444 158 198 150 405 202 345\n",
      "  161 147 230 413 130  76 373 392 327 431 379 338 169 481 374 265  55 129\n",
      "  286 356   8 183 137  59 214  18  27 461 285   6  53 356]]\n"
     ]
    }
   ],
   "source": [
    "print(array)"
   ]
  },
  {
   "cell_type": "code",
   "execution_count": 176,
   "metadata": {},
   "outputs": [],
   "source": [
    "# Change array to df\n",
    "df = pd.DataFrame(data=array)"
   ]
  },
  {
   "cell_type": "code",
   "execution_count": 177,
   "metadata": {},
   "outputs": [
    {
     "name": "stdout",
     "output_type": "stream",
     "text": [
      "    0    1    2    3    4    5    6    7    8    9   ...   40   41   42   43  \\\n",
      "0  416  102  479   11  362   29  443   14  283  399  ...  340   64  278   80   \n",
      "1   15  465  285  425  390  320  219  470  348  438  ...  205  433  414  136   \n",
      "2  358  352  358    1  278  143  441  131  283  336  ...  314  109  274  247   \n",
      "3   71  427   42  101  314  461  408  162  333  450  ...  120  480  296   17   \n",
      "4  498  318  340   22   47  248  416  158  296   80  ...  159   90  250  320   \n",
      "5   46  196  359  140   92  303  360   98  494  148  ...  412  213  394  345   \n",
      "6  105  146  112  260   71  257  244  406   69  213  ...  160  153  468  492   \n",
      "7  356   79  369  215   70  148  429  216  305   78  ...   85  345  480  253   \n",
      "8   78  243  407  205   99  132  388  451  154  469  ...  149  378   25  451   \n",
      "9  276   55  438  239  443  499  187  323  208  203  ...  137   59  214   18   \n",
      "\n",
      "    44   45   46   47   48   49  \n",
      "0  221  394  382  277  383  393  \n",
      "1  117  395  225  178   73  313  \n",
      "2   18   55  179  211  259  151  \n",
      "3   41  364  333   92  275  292  \n",
      "4   61  484  122   85  240  217  \n",
      "5  311  475   76  475  286  178  \n",
      "6  464  128  433   12  218  402  \n",
      "7  291  319  146   13  163   13  \n",
      "8   54   71  358  262  376  463  \n",
      "9   27  461  285    6   53  356  \n",
      "\n",
      "[10 rows x 50 columns]\n"
     ]
    }
   ],
   "source": [
    "print(df)"
   ]
  },
  {
   "cell_type": "code",
   "execution_count": 178,
   "metadata": {},
   "outputs": [],
   "source": [
    "# sum by rows and columns\n",
    "col_sum = df.sum(axis=0)\n",
    "row_sum = df.sum(axis=1)"
   ]
  },
  {
   "cell_type": "code",
   "execution_count": 179,
   "metadata": {},
   "outputs": [
    {
     "name": "stdout",
     "output_type": "stream",
     "text": [
      "The sum of each row is \n",
      " 0    12240\n",
      "1    14036\n",
      "2    10805\n",
      "3    13481\n",
      "4    13348\n",
      "5    11745\n",
      "6    12984\n",
      "7    13250\n",
      "8    13702\n",
      "9    12503\n",
      "dtype: int64\n"
     ]
    }
   ],
   "source": [
    "print(\"The sum of each row is \\n\", row_sum)"
   ]
  },
  {
   "cell_type": "code",
   "execution_count": 180,
   "metadata": {},
   "outputs": [
    {
     "name": "stdout",
     "output_type": "stream",
     "text": [
      "The sum of each column is \n",
      " 0     2219\n",
      "1     2383\n",
      "2     3189\n",
      "3     1619\n",
      "4     2166\n",
      "5     2540\n",
      "6     3535\n",
      "7     2429\n",
      "8     2773\n",
      "9     2814\n",
      "10    2204\n",
      "11    2126\n",
      "12    1705\n",
      "13    2281\n",
      "14    2293\n",
      "15    2684\n",
      "16    3157\n",
      "17    3412\n",
      "18    2025\n",
      "19    3032\n",
      "20    2819\n",
      "21    2794\n",
      "22    2989\n",
      "23    2090\n",
      "24    2624\n",
      "25    3048\n",
      "26    2337\n",
      "27    3213\n",
      "28    3079\n",
      "29    2491\n",
      "30    2818\n",
      "31    2789\n",
      "32    3169\n",
      "33    1885\n",
      "34    1989\n",
      "35    2834\n",
      "36    2070\n",
      "37    2969\n",
      "38    2791\n",
      "39    2848\n",
      "40    2081\n",
      "41    2324\n",
      "42    3093\n",
      "43    2359\n",
      "44    1605\n",
      "45    3146\n",
      "46    2539\n",
      "47    1611\n",
      "48    2326\n",
      "49    2778\n",
      "dtype: int64\n"
     ]
    }
   ],
   "source": [
    "print(\"The sum of each column is \\n\", col_sum)"
   ]
  },
  {
   "cell_type": "code",
   "execution_count": 181,
   "metadata": {},
   "outputs": [],
   "source": [
    "# sum of all values\n",
    "total_sum = df.values.sum()"
   ]
  },
  {
   "cell_type": "code",
   "execution_count": 182,
   "metadata": {},
   "outputs": [
    {
     "name": "stdout",
     "output_type": "stream",
     "text": [
      "The total sum of all values in the dataframe is \n",
      " 128094\n"
     ]
    }
   ],
   "source": [
    "print(\"The total sum of all values in the dataframe is \\n\", total_sum)"
   ]
  },
  {
   "cell_type": "code",
   "execution_count": 183,
   "metadata": {},
   "outputs": [],
   "source": [
    "# find minimum value\n",
    "min_val = df.values.min()"
   ]
  },
  {
   "cell_type": "code",
   "execution_count": 184,
   "metadata": {},
   "outputs": [
    {
     "name": "stdout",
     "output_type": "stream",
     "text": [
      "The minimum value in the dataframe is \n",
      " 1\n"
     ]
    }
   ],
   "source": [
    "print(\"The minimum value in the dataframe is \\n\", min_val)"
   ]
  },
  {
   "cell_type": "code",
   "execution_count": 185,
   "metadata": {},
   "outputs": [],
   "source": [
    "# find maximum value\n",
    "max_val = df.values.max()"
   ]
  },
  {
   "cell_type": "code",
   "execution_count": 186,
   "metadata": {},
   "outputs": [
    {
     "name": "stdout",
     "output_type": "stream",
     "text": [
      "The maximum value in the dataframe is \n",
      " 499\n"
     ]
    }
   ],
   "source": [
    "print(\"The maximum value in the dataframe is \\n\", max_val)"
   ]
  },
  {
   "cell_type": "code",
   "execution_count": 187,
   "metadata": {},
   "outputs": [],
   "source": [
    "# find average value\n",
    "mean_val = df.values.mean()"
   ]
  },
  {
   "cell_type": "code",
   "execution_count": 188,
   "metadata": {},
   "outputs": [
    {
     "name": "stdout",
     "output_type": "stream",
     "text": [
      "The average of all values in the dataframe is \n",
      " 256.188\n"
     ]
    }
   ],
   "source": [
    "print(\"The average of all values in the dataframe is \\n\", mean_val)"
   ]
  },
  {
   "cell_type": "code",
   "execution_count": 189,
   "metadata": {},
   "outputs": [],
   "source": [
    "# find standard deviation\n",
    "std_val = df.values.std()"
   ]
  },
  {
   "cell_type": "code",
   "execution_count": 190,
   "metadata": {},
   "outputs": [
    {
     "name": "stdout",
     "output_type": "stream",
     "text": [
      "The standard deviation of all values in the dataframe is \n",
      " 141.56300595847773\n"
     ]
    }
   ],
   "source": [
    "print(\"The standard deviation of all values in the dataframe is \\n\", std_val)"
   ]
  },
  {
   "cell_type": "code",
   "execution_count": 191,
   "metadata": {},
   "outputs": [],
   "source": [
    "# Sort by row 2\n",
    "row2_sort = df.sort_values(by=1, axis=1)"
   ]
  },
  {
   "cell_type": "code",
   "execution_count": 192,
   "metadata": {},
   "outputs": [
    {
     "name": "stdout",
     "output_type": "stream",
     "text": [
      "Dataframe sorted by ascending values in row 2 \n",
      "     0    35   22   24   11   48   14   33   44   30  ...   21   41   9    10  \\\n",
      "0  416  398  186  147   61  383  142   94  221  250  ...  154   64  399   16   \n",
      "1   15   29   33   45   48   73   75   83  117  134  ...  428  433  438  439   \n",
      "2  358   16  392  308  240  259    6   42   18  402  ...  250  109  336   25   \n",
      "3   71  243  382  493  168  275  482  208   41  320  ...  139  480  450  440   \n",
      "4  498  465  362  352  251  240  261  239   61  245  ...  267   90   80  465   \n",
      "5   46  305  290   24   31  286  238  234  311  448  ...  422  213  148  254   \n",
      "6  105  318  380  242  468  218  449  102  464  195  ...   46  153  213   25   \n",
      "7  356  451  404  302  231  163  259  171  291  210  ...  257  345   78   28   \n",
      "8   78  480  430  338  184  376  231  447   54  445  ...  418  378  469  101   \n",
      "9  276  129  130  373  444   53  150  265   27  169  ...  413   59  203  411   \n",
      "\n",
      "    12   25   1    7    32   17  \n",
      "0   49  154  102   14  347  366  \n",
      "1  445  464  465  470  471  472  \n",
      "2  437  240  352  131  312  335  \n",
      "3  128  308  427  162  274  348  \n",
      "4   79  197  318  158  493  469  \n",
      "5   54  129  196   98  175  202  \n",
      "6   35  330  146  406  340  223  \n",
      "7    1  479   79  216  347  393  \n",
      "8  319  355  243  451   36  259  \n",
      "9  158  392   55  323  374  345  \n",
      "\n",
      "[10 rows x 50 columns]\n"
     ]
    }
   ],
   "source": [
    "print(\"Dataframe sorted by ascending values in row 2 \\n\", row2_sort)"
   ]
  },
  {
   "cell_type": "code",
   "execution_count": 193,
   "metadata": {},
   "outputs": [],
   "source": [
    "# Sort by column 2\n",
    "col2_sort = df.sort_values(by=1, axis=0)"
   ]
  },
  {
   "cell_type": "code",
   "execution_count": 194,
   "metadata": {},
   "outputs": [
    {
     "name": "stdout",
     "output_type": "stream",
     "text": [
      "Dataframe sorted by ascending values in column 2 \n",
      "     0    1    2    3    4    5    6    7    8    9   ...   40   41   42   43  \\\n",
      "9  276   55  438  239  443  499  187  323  208  203  ...  137   59  214   18   \n",
      "7  356   79  369  215   70  148  429  216  305   78  ...   85  345  480  253   \n",
      "0  416  102  479   11  362   29  443   14  283  399  ...  340   64  278   80   \n",
      "6  105  146  112  260   71  257  244  406   69  213  ...  160  153  468  492   \n",
      "5   46  196  359  140   92  303  360   98  494  148  ...  412  213  394  345   \n",
      "8   78  243  407  205   99  132  388  451  154  469  ...  149  378   25  451   \n",
      "4  498  318  340   22   47  248  416  158  296   80  ...  159   90  250  320   \n",
      "2  358  352  358    1  278  143  441  131  283  336  ...  314  109  274  247   \n",
      "3   71  427   42  101  314  461  408  162  333  450  ...  120  480  296   17   \n",
      "1   15  465  285  425  390  320  219  470  348  438  ...  205  433  414  136   \n",
      "\n",
      "    44   45   46   47   48   49  \n",
      "9   27  461  285    6   53  356  \n",
      "7  291  319  146   13  163   13  \n",
      "0  221  394  382  277  383  393  \n",
      "6  464  128  433   12  218  402  \n",
      "5  311  475   76  475  286  178  \n",
      "8   54   71  358  262  376  463  \n",
      "4   61  484  122   85  240  217  \n",
      "2   18   55  179  211  259  151  \n",
      "3   41  364  333   92  275  292  \n",
      "1  117  395  225  178   73  313  \n",
      "\n",
      "[10 rows x 50 columns]\n"
     ]
    }
   ],
   "source": [
    "print(\"Dataframe sorted by ascending values in column 2 \\n\", col2_sort)"
   ]
  },
  {
   "cell_type": "code",
   "execution_count": null,
   "metadata": {},
   "outputs": [],
   "source": []
  }
 ],
 "metadata": {
  "kernelspec": {
   "display_name": "Python 3",
   "language": "python",
   "name": "python3"
  },
  "language_info": {
   "codemirror_mode": {
    "name": "ipython",
    "version": 3
   },
   "file_extension": ".py",
   "mimetype": "text/x-python",
   "name": "python",
   "nbconvert_exporter": "python",
   "pygments_lexer": "ipython3",
   "version": "3.7.4"
  }
 },
 "nbformat": 4,
 "nbformat_minor": 1
}
