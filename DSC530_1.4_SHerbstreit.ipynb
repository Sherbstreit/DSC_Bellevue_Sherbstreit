{
 "cells": [
  {
   "cell_type": "code",
   "execution_count": 3,
   "metadata": {},
   "outputs": [
    {
     "name": "stdout",
     "output_type": "stream",
     "text": [
      "9\n",
      "1\n",
      "16\n",
      "5.333333333333333\n",
      "HelloWorld\n",
      "['duck', 'duck', 'goose', 'run', 'You lose']\n",
      "(1, 2, 3)\n"
     ]
    }
   ],
   "source": [
    "# DSC530 Assignment 1.4\n",
    "# Herbstreit Sara\n",
    "# 6Jun20 \n",
    "\n",
    "\n",
    "# Perform requested functions\n",
    "print('Hello World! I wonder why that is always the default coding text to start with')\n",
    "print(3 + 6)\n",
    "print(4 - 3)\n",
    "print(4 * 4)\n",
    "print(16 / 3)\n",
    "print('Hello' + 'World')\n",
    "make_list = ['duck', 'duck', 'goose', 'run']\n",
    "make_list.append('You lose')\n",
    "make_tuple = (1, 2, 3)\n",
    "print(make_list)\n",
    "print(make_tuple)"
   ]
  },
  {
   "cell_type": "code",
   "execution_count": null,
   "metadata": {},
   "outputs": [],
   "source": []
  },
  {
   "cell_type": "code",
   "execution_count": null,
   "metadata": {},
   "outputs": [],
   "source": []
  }
 ],
 "metadata": {
  "kernelspec": {
   "display_name": "Python 3",
   "language": "python",
   "name": "python3"
  },
  "language_info": {
   "codemirror_mode": {
    "name": "ipython",
    "version": 3
   },
   "file_extension": ".py",
   "mimetype": "text/x-python",
   "name": "python",
   "nbconvert_exporter": "python",
   "pygments_lexer": "ipython3",
   "version": "3.7.4"
  }
 },
 "nbformat": 4,
 "nbformat_minor": 2
}
