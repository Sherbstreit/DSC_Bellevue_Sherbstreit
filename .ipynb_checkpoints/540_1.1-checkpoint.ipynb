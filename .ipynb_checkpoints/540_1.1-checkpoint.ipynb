{
 "cells": [
  {
   "cell_type": "code",
   "execution_count": 20,
   "metadata": {},
   "outputs": [],
   "source": [
    "import random"
   ]
  },
  {
   "cell_type": "code",
   "execution_count": 26,
   "metadata": {},
   "outputs": [
    {
     "data": {
      "text/plain": [
       "[226,\n",
       " 186,\n",
       " 169,\n",
       " 206,\n",
       " 68,\n",
       " 292,\n",
       " 44,\n",
       " 46,\n",
       " 71,\n",
       " 29,\n",
       " 285,\n",
       " 129,\n",
       " 175,\n",
       " 136,\n",
       " 108,\n",
       " 108,\n",
       " 221,\n",
       " 149,\n",
       " 77,\n",
       " 54,\n",
       " 55,\n",
       " 24,\n",
       " 300,\n",
       " 21,\n",
       " 126,\n",
       " 23,\n",
       " 160,\n",
       " 257,\n",
       " 255,\n",
       " 244,\n",
       " 272,\n",
       " 81,\n",
       " 233,\n",
       " 251,\n",
       " 6,\n",
       " 215,\n",
       " 193,\n",
       " 136,\n",
       " 217,\n",
       " 281,\n",
       " 12,\n",
       " 121,\n",
       " 80,\n",
       " 18,\n",
       " 237,\n",
       " 148,\n",
       " 203,\n",
       " 105,\n",
       " 301,\n",
       " 176,\n",
       " 210,\n",
       " 182,\n",
       " 193,\n",
       " 258,\n",
       " 57,\n",
       " 207,\n",
       " 89,\n",
       " 131,\n",
       " 249,\n",
       " 230,\n",
       " 193,\n",
       " 125,\n",
       " 289,\n",
       " 7,\n",
       " 250,\n",
       " 211,\n",
       " 11,\n",
       " 90,\n",
       " 54,\n",
       " 39,\n",
       " 219,\n",
       " 105,\n",
       " 91,\n",
       " 206,\n",
       " 251,\n",
       " 184,\n",
       " 84,\n",
       " 275,\n",
       " 37,\n",
       " 84,\n",
       " 108,\n",
       " 291,\n",
       " 265,\n",
       " 133,\n",
       " 232,\n",
       " 11,\n",
       " 170,\n",
       " 48,\n",
       " 261,\n",
       " 53,\n",
       " 284,\n",
       " 12,\n",
       " 236,\n",
       " 266,\n",
       " 131,\n",
       " 261,\n",
       " 294,\n",
       " 152,\n",
       " 106,\n",
       " 12]"
      ]
     },
     "execution_count": 26,
     "metadata": {},
     "output_type": "execute_result"
    }
   ],
   "source": [
    "# create list of 100 random numbers\n",
    "list1 = [random.randint(0,301) for x in range(0,100)]\n",
    "list1"
   ]
  },
  {
   "cell_type": "code",
   "execution_count": 27,
   "metadata": {},
   "outputs": [
    {
     "data": {
      "text/plain": [
       "[186,\n",
       " 285,\n",
       " 129,\n",
       " 108,\n",
       " 108,\n",
       " 54,\n",
       " 24,\n",
       " 300,\n",
       " 21,\n",
       " 126,\n",
       " 255,\n",
       " 81,\n",
       " 6,\n",
       " 12,\n",
       " 18,\n",
       " 237,\n",
       " 105,\n",
       " 210,\n",
       " 258,\n",
       " 57,\n",
       " 207,\n",
       " 249,\n",
       " 90,\n",
       " 54,\n",
       " 39,\n",
       " 219,\n",
       " 105,\n",
       " 84,\n",
       " 84,\n",
       " 108,\n",
       " 291,\n",
       " 48,\n",
       " 261,\n",
       " 12,\n",
       " 261,\n",
       " 294,\n",
       " 12]"
      ]
     },
     "execution_count": 27,
     "metadata": {},
     "output_type": "execute_result"
    }
   ],
   "source": [
    "# sublist with only list1 values divisible by 3\n",
    "list2 = [x for x in list1 if x % 3 == 0]\n",
    "list2"
   ]
  },
  {
   "cell_type": "code",
   "execution_count": 28,
   "metadata": {},
   "outputs": [
    {
     "data": {
      "text/plain": [
       "100"
      ]
     },
     "execution_count": 28,
     "metadata": {},
     "output_type": "execute_result"
    }
   ],
   "source": [
    "# length of list 1\n",
    "length1 = len(list1)\n",
    "length1"
   ]
  },
  {
   "cell_type": "code",
   "execution_count": 29,
   "metadata": {},
   "outputs": [
    {
     "data": {
      "text/plain": [
       "37"
      ]
     },
     "execution_count": 29,
     "metadata": {},
     "output_type": "execute_result"
    }
   ],
   "source": [
    "# length of list 2\n",
    "length2 = len(list2)\n",
    "length2"
   ]
  },
  {
   "cell_type": "code",
   "execution_count": 30,
   "metadata": {},
   "outputs": [
    {
     "data": {
      "text/plain": [
       "63"
      ]
     },
     "execution_count": 30,
     "metadata": {},
     "output_type": "execute_result"
    }
   ],
   "source": [
    "# difference between list lengths\n",
    "diff = length1- length2\n",
    "diff"
   ]
  },
  {
   "cell_type": "code",
   "execution_count": 31,
   "metadata": {},
   "outputs": [
    {
     "data": {
      "text/plain": [
       "[76, 64, 65, 72, 65, 68, 65, 78, 64, 65]"
      ]
     },
     "execution_count": 31,
     "metadata": {},
     "output_type": "execute_result"
    }
   ],
   "source": [
    "# Loop to find differences 10 more random times, and store in new list\n",
    "repeatlist = []\n",
    "for i in range(0, 10):\n",
    "    list1 = [random.randint(0,301) for x in range(0,100)]\n",
    "    list2 = [x for x in list1 if x % 3 == 0]\n",
    "    length1 = len(list1)\n",
    "    length2 = len(list2)\n",
    "    diff = length1- length2\n",
    "    repeatlist.append(diff)\n",
    "repeatlist"
   ]
  },
  {
   "cell_type": "code",
   "execution_count": 32,
   "metadata": {},
   "outputs": [
    {
     "data": {
      "text/plain": [
       "68.2"
      ]
     },
     "execution_count": 32,
     "metadata": {},
     "output_type": "execute_result"
    }
   ],
   "source": [
    "# The average difference between list1 and list2\n",
    "mean_diff = sum(repeatlist)/len(repeatlist)\n",
    "mean_diff"
   ]
  }
 ],
 "metadata": {
  "kernelspec": {
   "display_name": "Python 3",
   "language": "python",
   "name": "python3"
  },
  "language_info": {
   "codemirror_mode": {
    "name": "ipython",
    "version": 3
   },
   "file_extension": ".py",
   "mimetype": "text/x-python",
   "name": "python",
   "nbconvert_exporter": "python",
   "pygments_lexer": "ipython3",
   "version": "3.7.4"
  }
 },
 "nbformat": 4,
 "nbformat_minor": 2
}
