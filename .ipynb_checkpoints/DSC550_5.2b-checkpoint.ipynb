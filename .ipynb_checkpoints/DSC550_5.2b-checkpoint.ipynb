{
 "cells": [
  {
   "cell_type": "code",
   "execution_count": 8,
   "metadata": {},
   "outputs": [],
   "source": [
    "# libraries for days\n",
    "import pandas as pd\n",
    "import numpy as np\n",
    "import json\n",
    "import sys\n",
    "import warnings\n",
    "from sklearn.datasets import make_regression\n",
    "from sklearn.feature_selection import RFECV\n",
    "from sklearn import datasets, linear_model\n",
    "from sklearn.preprocessing import StandardScaler\n",
    "from sklearn.decomposition import PCA\n",
    "from sklearn.decomposition import NMF\n",
    "from sklearn import datasets\n",
    "from sklearn.model_selection import train_test_split"
   ]
  },
  {
   "cell_type": "code",
   "execution_count": 9,
   "metadata": {},
   "outputs": [
    {
     "name": "stdout",
     "output_type": "stream",
     "text": [
      "original number of features: 64\n",
      "reduced number of features: 54\n"
     ]
    }
   ],
   "source": [
    "# load digits data\n",
    "digits = datasets.load_digits()\n",
    "\n",
    "#standardize features matrix\n",
    "features = StandardScaler().fit_transform(digits.data)\n",
    "\n",
    "# Create variable for PCA with 99% variance\n",
    "pca = PCA(n_components=0.99, whiten=True)\n",
    "\n",
    "# run PCA and show results\n",
    "features_pca = pca.fit_transform(features)\n",
    "print(\"original number of features:\", features.shape[1])\n",
    "print(\"reduced number of features:\", features_pca.shape[1])\n"
   ]
  },
  {
   "cell_type": "code",
   "execution_count": 11,
   "metadata": {},
   "outputs": [
    {
     "name": "stdout",
     "output_type": "stream",
     "text": [
      "original number of features: 64\n",
      "reduced number of features: 10\n"
     ]
    }
   ],
   "source": [
    "features = digits.data\n",
    "\n",
    "# Create NMF with 10 components and set random for consistent numbers\n",
    "nmf=NMF(n_components=10, random_state=1)\n",
    "\n",
    "# run NMF and show results\n",
    "features_nmf=nmf.fit_transform(features)\n",
    "print(\"original number of features:\", features.shape[1])\n",
    "print(\"reduced number of features:\", features_nmf.shape[1])\n"
   ]
  },
  {
   "cell_type": "code",
   "execution_count": null,
   "metadata": {},
   "outputs": [],
   "source": []
  }
 ],
 "metadata": {
  "kernelspec": {
   "display_name": "Python 3",
   "language": "python",
   "name": "python3"
  },
  "language_info": {
   "codemirror_mode": {
    "name": "ipython",
    "version": 3
   },
   "file_extension": ".py",
   "mimetype": "text/x-python",
   "name": "python",
   "nbconvert_exporter": "python",
   "pygments_lexer": "ipython3",
   "version": "3.7.4"
  }
 },
 "nbformat": 4,
 "nbformat_minor": 2
}
