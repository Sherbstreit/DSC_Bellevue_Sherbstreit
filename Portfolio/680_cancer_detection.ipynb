{
 "cells": [
  {
   "cell_type": "code",
   "execution_count": 34,
   "metadata": {},
   "outputs": [],
   "source": [
    "import pandas as pd\n",
    "import numpy as np\n",
    "import matplotlib.pyplot as plt\n",
    "import seaborn as sns\n",
    "from sklearn import model_selection\n",
    "from sklearn.model_selection import train_test_split\n",
    "\n",
    "from sklearn.preprocessing import LabelEncoder\n",
    "from sklearn.preprocessing import StandardScaler\n",
    "from sklearn.decomposition import PCA\n",
    "from sklearn.metrics import accuracy_score, confusion_matrix, recall_score, classification_report\n",
    "from sklearn.cluster import KMeans\n",
    "from sklearn.svm import SVC\n",
    "from sklearn.linear_model import LogisticRegression\n",
    "from sklearn.naive_bayes import GaussianNB\n",
    "from sklearn.neighbors import KNeighborsClassifier\n",
    "from sklearn.ensemble import BaggingClassifier, RandomForestClassifier, ExtraTreesClassifier\n",
    "from sklearn.model_selection import RepeatedStratifiedKFold, cross_val_score, GridSearchCV\n",
    "import warnings\n",
    "warnings.filterwarnings('ignore')"
   ]
  },
  {
   "cell_type": "code",
   "execution_count": 94,
   "metadata": {},
   "outputs": [
    {
     "data": {
      "text/html": [
       "<div>\n",
       "<style scoped>\n",
       "    .dataframe tbody tr th:only-of-type {\n",
       "        vertical-align: middle;\n",
       "    }\n",
       "\n",
       "    .dataframe tbody tr th {\n",
       "        vertical-align: top;\n",
       "    }\n",
       "\n",
       "    .dataframe thead th {\n",
       "        text-align: right;\n",
       "    }\n",
       "</style>\n",
       "<table border=\"1\" class=\"dataframe\">\n",
       "  <thead>\n",
       "    <tr style=\"text-align: right;\">\n",
       "      <th></th>\n",
       "      <th>samples</th>\n",
       "      <th>type</th>\n",
       "      <th>1007_s_at</th>\n",
       "      <th>1053_at</th>\n",
       "      <th>117_at</th>\n",
       "      <th>121_at</th>\n",
       "      <th>1255_g_at</th>\n",
       "      <th>1294_at</th>\n",
       "      <th>1316_at</th>\n",
       "      <th>1320_at</th>\n",
       "      <th>...</th>\n",
       "      <th>AFFX-r2-Ec-bioD-3_at</th>\n",
       "      <th>AFFX-r2-Ec-bioD-5_at</th>\n",
       "      <th>AFFX-r2-P1-cre-3_at</th>\n",
       "      <th>AFFX-r2-P1-cre-5_at</th>\n",
       "      <th>AFFX-ThrX-3_at</th>\n",
       "      <th>AFFX-ThrX-5_at</th>\n",
       "      <th>AFFX-ThrX-M_at</th>\n",
       "      <th>AFFX-TrpnX-3_at</th>\n",
       "      <th>AFFX-TrpnX-5_at</th>\n",
       "      <th>AFFX-TrpnX-M_at</th>\n",
       "    </tr>\n",
       "  </thead>\n",
       "  <tbody>\n",
       "    <tr>\n",
       "      <th>0</th>\n",
       "      <td>834</td>\n",
       "      <td>ependymoma</td>\n",
       "      <td>12.498150</td>\n",
       "      <td>7.604868</td>\n",
       "      <td>6.880934</td>\n",
       "      <td>9.027128</td>\n",
       "      <td>4.176175</td>\n",
       "      <td>7.224920</td>\n",
       "      <td>6.085942</td>\n",
       "      <td>6.835999</td>\n",
       "      <td>...</td>\n",
       "      <td>9.979005</td>\n",
       "      <td>9.926470</td>\n",
       "      <td>12.719785</td>\n",
       "      <td>12.777792</td>\n",
       "      <td>5.403657</td>\n",
       "      <td>4.870548</td>\n",
       "      <td>4.047380</td>\n",
       "      <td>3.721936</td>\n",
       "      <td>4.516434</td>\n",
       "      <td>4.749940</td>\n",
       "    </tr>\n",
       "    <tr>\n",
       "      <th>1</th>\n",
       "      <td>835</td>\n",
       "      <td>ependymoma</td>\n",
       "      <td>13.067436</td>\n",
       "      <td>7.998090</td>\n",
       "      <td>7.209076</td>\n",
       "      <td>9.723322</td>\n",
       "      <td>4.826126</td>\n",
       "      <td>7.539381</td>\n",
       "      <td>6.250962</td>\n",
       "      <td>8.012549</td>\n",
       "      <td>...</td>\n",
       "      <td>11.924749</td>\n",
       "      <td>11.215930</td>\n",
       "      <td>13.605662</td>\n",
       "      <td>13.401342</td>\n",
       "      <td>5.224555</td>\n",
       "      <td>4.895315</td>\n",
       "      <td>3.786437</td>\n",
       "      <td>3.564481</td>\n",
       "      <td>4.430891</td>\n",
       "      <td>4.491416</td>\n",
       "    </tr>\n",
       "    <tr>\n",
       "      <th>2</th>\n",
       "      <td>836</td>\n",
       "      <td>ependymoma</td>\n",
       "      <td>13.068179</td>\n",
       "      <td>8.573674</td>\n",
       "      <td>8.647684</td>\n",
       "      <td>9.613002</td>\n",
       "      <td>4.396581</td>\n",
       "      <td>7.813101</td>\n",
       "      <td>6.007746</td>\n",
       "      <td>7.178156</td>\n",
       "      <td>...</td>\n",
       "      <td>12.154405</td>\n",
       "      <td>11.532460</td>\n",
       "      <td>13.764593</td>\n",
       "      <td>13.477800</td>\n",
       "      <td>5.303565</td>\n",
       "      <td>5.052184</td>\n",
       "      <td>4.005343</td>\n",
       "      <td>3.595382</td>\n",
       "      <td>4.563494</td>\n",
       "      <td>4.668827</td>\n",
       "    </tr>\n",
       "    <tr>\n",
       "      <th>3</th>\n",
       "      <td>837</td>\n",
       "      <td>ependymoma</td>\n",
       "      <td>12.456040</td>\n",
       "      <td>9.098977</td>\n",
       "      <td>6.628784</td>\n",
       "      <td>8.517677</td>\n",
       "      <td>4.154847</td>\n",
       "      <td>8.361843</td>\n",
       "      <td>6.596064</td>\n",
       "      <td>6.347285</td>\n",
       "      <td>...</td>\n",
       "      <td>11.969072</td>\n",
       "      <td>11.288801</td>\n",
       "      <td>13.600828</td>\n",
       "      <td>13.379029</td>\n",
       "      <td>4.953429</td>\n",
       "      <td>4.708371</td>\n",
       "      <td>3.892318</td>\n",
       "      <td>3.759429</td>\n",
       "      <td>4.748381</td>\n",
       "      <td>4.521275</td>\n",
       "    </tr>\n",
       "    <tr>\n",
       "      <th>4</th>\n",
       "      <td>838</td>\n",
       "      <td>ependymoma</td>\n",
       "      <td>12.699958</td>\n",
       "      <td>8.800721</td>\n",
       "      <td>11.556188</td>\n",
       "      <td>9.166309</td>\n",
       "      <td>4.165891</td>\n",
       "      <td>7.923826</td>\n",
       "      <td>6.212754</td>\n",
       "      <td>6.866387</td>\n",
       "      <td>...</td>\n",
       "      <td>11.411701</td>\n",
       "      <td>11.169317</td>\n",
       "      <td>13.751442</td>\n",
       "      <td>13.803646</td>\n",
       "      <td>4.892677</td>\n",
       "      <td>4.773806</td>\n",
       "      <td>3.796856</td>\n",
       "      <td>3.577544</td>\n",
       "      <td>4.504385</td>\n",
       "      <td>4.541450</td>\n",
       "    </tr>\n",
       "  </tbody>\n",
       "</table>\n",
       "<p>5 rows × 54677 columns</p>\n",
       "</div>"
      ],
      "text/plain": [
       "   samples        type  1007_s_at   1053_at     117_at    121_at  1255_g_at  \\\n",
       "0      834  ependymoma  12.498150  7.604868   6.880934  9.027128   4.176175   \n",
       "1      835  ependymoma  13.067436  7.998090   7.209076  9.723322   4.826126   \n",
       "2      836  ependymoma  13.068179  8.573674   8.647684  9.613002   4.396581   \n",
       "3      837  ependymoma  12.456040  9.098977   6.628784  8.517677   4.154847   \n",
       "4      838  ependymoma  12.699958  8.800721  11.556188  9.166309   4.165891   \n",
       "\n",
       "    1294_at   1316_at   1320_at  ...  AFFX-r2-Ec-bioD-3_at  \\\n",
       "0  7.224920  6.085942  6.835999  ...              9.979005   \n",
       "1  7.539381  6.250962  8.012549  ...             11.924749   \n",
       "2  7.813101  6.007746  7.178156  ...             12.154405   \n",
       "3  8.361843  6.596064  6.347285  ...             11.969072   \n",
       "4  7.923826  6.212754  6.866387  ...             11.411701   \n",
       "\n",
       "   AFFX-r2-Ec-bioD-5_at  AFFX-r2-P1-cre-3_at  AFFX-r2-P1-cre-5_at  \\\n",
       "0              9.926470            12.719785            12.777792   \n",
       "1             11.215930            13.605662            13.401342   \n",
       "2             11.532460            13.764593            13.477800   \n",
       "3             11.288801            13.600828            13.379029   \n",
       "4             11.169317            13.751442            13.803646   \n",
       "\n",
       "   AFFX-ThrX-3_at  AFFX-ThrX-5_at  AFFX-ThrX-M_at  AFFX-TrpnX-3_at  \\\n",
       "0        5.403657        4.870548        4.047380         3.721936   \n",
       "1        5.224555        4.895315        3.786437         3.564481   \n",
       "2        5.303565        5.052184        4.005343         3.595382   \n",
       "3        4.953429        4.708371        3.892318         3.759429   \n",
       "4        4.892677        4.773806        3.796856         3.577544   \n",
       "\n",
       "   AFFX-TrpnX-5_at  AFFX-TrpnX-M_at  \n",
       "0         4.516434         4.749940  \n",
       "1         4.430891         4.491416  \n",
       "2         4.563494         4.668827  \n",
       "3         4.748381         4.521275  \n",
       "4         4.504385         4.541450  \n",
       "\n",
       "[5 rows x 54677 columns]"
      ]
     },
     "execution_count": 94,
     "metadata": {},
     "output_type": "execute_result"
    }
   ],
   "source": [
    "df = pd.read_csv('Brain_GSE50161.csv')\n",
    "df.head()"
   ]
  },
  {
   "cell_type": "code",
   "execution_count": 36,
   "metadata": {},
   "outputs": [],
   "source": [
    "df.drop('samples', axis=1, inplace=True)"
   ]
  },
  {
   "cell_type": "code",
   "execution_count": 37,
   "metadata": {},
   "outputs": [
    {
     "data": {
      "text/plain": [
       "False"
      ]
     },
     "execution_count": 37,
     "metadata": {},
     "output_type": "execute_result"
    }
   ],
   "source": [
    "df.isnull().values.any()"
   ]
  },
  {
   "cell_type": "code",
   "execution_count": 38,
   "metadata": {},
   "outputs": [
    {
     "data": {
      "text/plain": [
       "Text(0.5, 1.0, 'Frequency of Case Types in Data')"
      ]
     },
     "execution_count": 38,
     "metadata": {},
     "output_type": "execute_result"
    },
    {
     "data": {
      "image/png": "[encoded data removed]",
      "text/plain": [
       "<Figure size 432x288 with 1 Axes>"
      ]
     },
     "metadata": {
      "needs_background": "light"
     },
     "output_type": "display_data"
    }
   ],
   "source": [
    "df['type'].value_counts().plot(kind = 'bar', colormap='Pastel2')\n",
    "plt.title('Frequency of Case Types in Data')"
   ]
  },
  {
   "cell_type": "code",
   "execution_count": 39,
   "metadata": {},
   "outputs": [],
   "source": [
    "ep_df = df[df['type'] == 'ependymoma'] \n",
    "gl_df = df[df['type'] == 'glioblastoma'] \n",
    "me_df = df[df['type'] == 'medulloblastoma'] \n",
    "pi_df = df[df['type'] == 'pilocytic_astrocytoma'] \n",
    "n_df = df[df['type'] == 'normal'] "
   ]
  },
  {
   "cell_type": "code",
   "execution_count": 40,
   "metadata": {},
   "outputs": [
    {
     "data": {
      "text/plain": [
       "Text(0, 0.5, 'Expression Levels')"
      ]
     },
     "execution_count": 40,
     "metadata": {},
     "output_type": "execute_result"
    },
    {
     "data": {
      "image/png": "[encoded data removed]",
      "text/plain": [
       "<Figure size 432x288 with 1 Axes>"
      ]
     },
     "metadata": {
      "needs_background": "light"
     },
     "output_type": "display_data"
    }
   ],
   "source": [
    "me_highest = me_df.mean().abs().sort_values(ascending = False)\n",
    "plt.figure(figsize=(6, 4))\n",
    "me_highest.head(5).plot(kind = 'bar', color='lightblue')\n",
    "plt.title('5 Highest Expression Gene Levels in Medulloblastoma')\n",
    "plt.ylabel('Expression Levels')"
   ]
  },
  {
   "cell_type": "code",
   "execution_count": 41,
   "metadata": {},
   "outputs": [
    {
     "data": {
      "text/plain": [
       "Text(0, 0.5, 'Expression Levels')"
      ]
     },
     "execution_count": 41,
     "metadata": {},
     "output_type": "execute_result"
    },
    {
     "data": {
      "image/png": "[encoded data removed]",
      "text/plain": [
       "<Figure size 432x288 with 1 Axes>"
      ]
     },
     "metadata": {
      "needs_background": "light"
     },
     "output_type": "display_data"
    }
   ],
   "source": [
    "pi_highest = pi_df.mean().abs().sort_values(ascending = False)\n",
    "plt.figure(figsize=(6, 4))\n",
    "pi_highest.head(5).plot(kind = 'bar', color='lightblue')\n",
    "plt.title('5 Highest Expression Gene Levels in Pilocytic Astrocytoma')\n",
    "plt.ylabel('Expression Levels')"
   ]
  },
  {
   "cell_type": "code",
   "execution_count": 42,
   "metadata": {},
   "outputs": [
    {
     "data": {
      "text/plain": [
       "Text(0, 0.5, 'Expression Levels')"
      ]
     },
     "execution_count": 42,
     "metadata": {},
     "output_type": "execute_result"
    },
    {
     "data": {
      "image/png": "[encoded data removed]",
      "text/plain": [
       "<Figure size 432x288 with 1 Axes>"
      ]
     },
     "metadata": {
      "needs_background": "light"
     },
     "output_type": "display_data"
    }
   ],
   "source": [
    "ep_highest = ep_df.mean().abs().sort_values(ascending = False)\n",
    "plt.figure(figsize=(6, 4))\n",
    "ep_highest.head(5).plot(kind = 'bar', color='lightblue')\n",
    "plt.title('5 Highest Expression Gene Levels in Ependymoma')\n",
    "plt.ylabel('Expression Levels')"
   ]
  },
  {
   "cell_type": "code",
   "execution_count": 43,
   "metadata": {},
   "outputs": [
    {
     "data": {
      "text/plain": [
       "Text(0, 0.5, 'Expression Levels')"
      ]
     },
     "execution_count": 43,
     "metadata": {},
     "output_type": "execute_result"
    },
    {
     "data": {
      "image/png": "[encoded data removed]",
      "text/plain": [
       "<Figure size 432x288 with 1 Axes>"
      ]
     },
     "metadata": {
      "needs_background": "light"
     },
     "output_type": "display_data"
    }
   ],
   "source": [
    "gl_highest = gl_df.mean().abs().sort_values(ascending = False)\n",
    "plt.figure(figsize=(6, 4))\n",
    "gl_highest.head(5).plot(kind = 'bar', color='lightblue')\n",
    "plt.title('5 Highest Expression Gene Levels in Glioblastoma')\n",
    "plt.ylabel('Expression Levels')"
   ]
  },
  {
   "cell_type": "code",
   "execution_count": 44,
   "metadata": {},
   "outputs": [
    {
     "data": {
      "text/plain": [
       "Text(0, 0.5, 'Expression Levels')"
      ]
     },
     "execution_count": 44,
     "metadata": {},
     "output_type": "execute_result"
    },
    {
     "data": {
      "image/png": "[encoded data removed]",
      "text/plain": [
       "<Figure size 432x288 with 1 Axes>"
      ]
     },
     "metadata": {
      "needs_background": "light"
     },
     "output_type": "display_data"
    }
   ],
   "source": [
    "n_highest = n_df.mean().abs().sort_values(ascending = False)\n",
    "plt.figure(figsize=(6, 4))\n",
    "n_highest.head(5).plot(kind = 'bar', color='lightblue')\n",
    "plt.title('5 Highest Expression Gene Levels in Healthy Samples')\n",
    "plt.ylabel('Expression Levels')"
   ]
  },
  {
   "cell_type": "code",
   "execution_count": 45,
   "metadata": {},
   "outputs": [],
   "source": [
    "ep_highest = pd.DataFrame(ep_highest, columns= ['ependymoma'])\n",
    "gl_highest = pd.DataFrame(gl_highest, columns= ['glioblastoma'])\n",
    "me_highest = pd.DataFrame(me_highest, columns= ['medulloblastoma'])\n",
    "pi_highest = pd.DataFrame(pi_highest, columns= ['pilocytic_astrocytoma'])\n",
    "n_highest = pd.DataFrame(n_highest, columns= ['normal'])\n",
    "\n",
    "data_frames = [ep_highest, gl_highest, me_highest, pi_highest, n_highest]\n",
    "by_tumor = pd.concat(data_frames, join='outer', axis=1).fillna('NA')"
   ]
  },
  {
   "cell_type": "code",
   "execution_count": 46,
   "metadata": {},
   "outputs": [],
   "source": [
    "var_df = by_tumor.var(axis=1)\n",
    "var_df = pd.DataFrame(var_df, columns=['variance'])\n",
    "data_frames = [by_tumor, var_df]\n",
    "var_df = pd.concat(data_frames, join='outer', axis=1).fillna('NA')\n",
    "highest_var_all = var_df.sort_values(by = 'variance',ascending = False)\n",
    "highest_var = highest_var_all.iloc[:10]\n",
    "highest_var.drop(['variance'], axis=1, inplace=True)"
   ]
  },
  {
   "cell_type": "code",
   "execution_count": 47,
   "metadata": {
    "scrolled": true
   },
   "outputs": [
    {
     "data": {
      "text/html": [
       "<div>\n",
       "<style scoped>\n",
       "    .dataframe tbody tr th:only-of-type {\n",
       "        vertical-align: middle;\n",
       "    }\n",
       "\n",
       "    .dataframe tbody tr th {\n",
       "        vertical-align: top;\n",
       "    }\n",
       "\n",
       "    .dataframe thead th {\n",
       "        text-align: right;\n",
       "    }\n",
       "</style>\n",
       "<table border=\"1\" class=\"dataframe\">\n",
       "  <thead>\n",
       "    <tr style=\"text-align: right;\">\n",
       "      <th></th>\n",
       "      <th>ependymoma</th>\n",
       "      <th>glioblastoma</th>\n",
       "      <th>medulloblastoma</th>\n",
       "      <th>pilocytic_astrocytoma</th>\n",
       "      <th>normal</th>\n",
       "      <th>variance</th>\n",
       "    </tr>\n",
       "  </thead>\n",
       "  <tbody>\n",
       "    <tr>\n",
       "      <th>1568612_at</th>\n",
       "      <td>4.426834</td>\n",
       "      <td>5.953667</td>\n",
       "      <td>9.186332</td>\n",
       "      <td>4.615742</td>\n",
       "      <td>11.354087</td>\n",
       "      <td>9.270301</td>\n",
       "    </tr>\n",
       "    <tr>\n",
       "      <th>221805_at</th>\n",
       "      <td>4.472807</td>\n",
       "      <td>7.004822</td>\n",
       "      <td>6.367429</td>\n",
       "      <td>5.506021</td>\n",
       "      <td>12.268795</td>\n",
       "      <td>9.175552</td>\n",
       "    </tr>\n",
       "    <tr>\n",
       "      <th>203001_s_at</th>\n",
       "      <td>6.650867</td>\n",
       "      <td>9.083943</td>\n",
       "      <td>12.667659</td>\n",
       "      <td>7.682313</td>\n",
       "      <td>13.073175</td>\n",
       "      <td>8.461631</td>\n",
       "    </tr>\n",
       "    <tr>\n",
       "      <th>210016_at</th>\n",
       "      <td>4.981243</td>\n",
       "      <td>6.828656</td>\n",
       "      <td>10.259218</td>\n",
       "      <td>6.157811</td>\n",
       "      <td>11.413329</td>\n",
       "      <td>7.651900</td>\n",
       "    </tr>\n",
       "    <tr>\n",
       "      <th>206502_s_at</th>\n",
       "      <td>6.451840</td>\n",
       "      <td>8.974249</td>\n",
       "      <td>12.738033</td>\n",
       "      <td>5.688730</td>\n",
       "      <td>8.239764</td>\n",
       "      <td>7.579641</td>\n",
       "    </tr>\n",
       "    <tr>\n",
       "      <th>208650_s_at</th>\n",
       "      <td>9.592566</td>\n",
       "      <td>8.122156</td>\n",
       "      <td>11.544823</td>\n",
       "      <td>4.728293</td>\n",
       "      <td>6.186445</td>\n",
       "      <td>7.275984</td>\n",
       "    </tr>\n",
       "    <tr>\n",
       "      <th>203000_at</th>\n",
       "      <td>6.985046</td>\n",
       "      <td>9.446125</td>\n",
       "      <td>12.684769</td>\n",
       "      <td>8.059411</td>\n",
       "      <td>12.886813</td>\n",
       "      <td>7.175878</td>\n",
       "    </tr>\n",
       "    <tr>\n",
       "      <th>231771_at</th>\n",
       "      <td>5.608844</td>\n",
       "      <td>5.695147</td>\n",
       "      <td>4.601958</td>\n",
       "      <td>4.767646</td>\n",
       "      <td>11.027777</td>\n",
       "      <td>7.104692</td>\n",
       "    </tr>\n",
       "    <tr>\n",
       "      <th>242128_at</th>\n",
       "      <td>4.845109</td>\n",
       "      <td>5.012456</td>\n",
       "      <td>10.729009</td>\n",
       "      <td>4.392994</td>\n",
       "      <td>5.089728</td>\n",
       "      <td>7.020662</td>\n",
       "    </tr>\n",
       "    <tr>\n",
       "      <th>230303_at</th>\n",
       "      <td>5.913120</td>\n",
       "      <td>7.029332</td>\n",
       "      <td>7.980667</td>\n",
       "      <td>5.552178</td>\n",
       "      <td>11.995467</td>\n",
       "      <td>6.696378</td>\n",
       "    </tr>\n",
       "    <tr>\n",
       "      <th>235066_at</th>\n",
       "      <td>5.428295</td>\n",
       "      <td>7.245082</td>\n",
       "      <td>9.470132</td>\n",
       "      <td>6.152892</td>\n",
       "      <td>11.744193</td>\n",
       "      <td>6.693829</td>\n",
       "    </tr>\n",
       "    <tr>\n",
       "      <th>205551_at</th>\n",
       "      <td>6.255732</td>\n",
       "      <td>7.354266</td>\n",
       "      <td>10.466448</td>\n",
       "      <td>6.260320</td>\n",
       "      <td>11.859884</td>\n",
       "      <td>6.625736</td>\n",
       "    </tr>\n",
       "    <tr>\n",
       "      <th>201292_at</th>\n",
       "      <td>8.312435</td>\n",
       "      <td>9.921030</td>\n",
       "      <td>11.183001</td>\n",
       "      <td>6.868304</td>\n",
       "      <td>4.676963</td>\n",
       "      <td>6.514447</td>\n",
       "    </tr>\n",
       "    <tr>\n",
       "      <th>1556096_s_at</th>\n",
       "      <td>4.733767</td>\n",
       "      <td>5.926875</td>\n",
       "      <td>7.962087</td>\n",
       "      <td>4.923418</td>\n",
       "      <td>10.820165</td>\n",
       "      <td>6.509639</td>\n",
       "    </tr>\n",
       "    <tr>\n",
       "      <th>205626_s_at</th>\n",
       "      <td>9.709628</td>\n",
       "      <td>6.427799</td>\n",
       "      <td>6.641395</td>\n",
       "      <td>5.983607</td>\n",
       "      <td>11.834183</td>\n",
       "      <td>6.484015</td>\n",
       "    </tr>\n",
       "    <tr>\n",
       "      <th>244118_at</th>\n",
       "      <td>3.763480</td>\n",
       "      <td>4.433494</td>\n",
       "      <td>5.849084</td>\n",
       "      <td>3.885723</td>\n",
       "      <td>9.844689</td>\n",
       "      <td>6.435430</td>\n",
       "    </tr>\n",
       "    <tr>\n",
       "      <th>239765_at</th>\n",
       "      <td>4.509748</td>\n",
       "      <td>5.438105</td>\n",
       "      <td>7.529430</td>\n",
       "      <td>4.506330</td>\n",
       "      <td>10.439304</td>\n",
       "      <td>6.410024</td>\n",
       "    </tr>\n",
       "    <tr>\n",
       "      <th>240065_at</th>\n",
       "      <td>10.877876</td>\n",
       "      <td>5.480430</td>\n",
       "      <td>5.048728</td>\n",
       "      <td>5.414344</td>\n",
       "      <td>5.032038</td>\n",
       "      <td>6.390365</td>\n",
       "    </tr>\n",
       "    <tr>\n",
       "      <th>228636_at</th>\n",
       "      <td>6.549916</td>\n",
       "      <td>6.788032</td>\n",
       "      <td>11.991340</td>\n",
       "      <td>6.389667</td>\n",
       "      <td>9.916519</td>\n",
       "      <td>6.308417</td>\n",
       "    </tr>\n",
       "    <tr>\n",
       "      <th>221916_at</th>\n",
       "      <td>6.160308</td>\n",
       "      <td>7.986985</td>\n",
       "      <td>7.744881</td>\n",
       "      <td>6.853177</td>\n",
       "      <td>12.514232</td>\n",
       "      <td>6.206476</td>\n",
       "    </tr>\n",
       "  </tbody>\n",
       "</table>\n",
       "</div>"
      ],
      "text/plain": [
       "              ependymoma  glioblastoma  medulloblastoma  \\\n",
       "1568612_at      4.426834      5.953667         9.186332   \n",
       "221805_at       4.472807      7.004822         6.367429   \n",
       "203001_s_at     6.650867      9.083943        12.667659   \n",
       "210016_at       4.981243      6.828656        10.259218   \n",
       "206502_s_at     6.451840      8.974249        12.738033   \n",
       "208650_s_at     9.592566      8.122156        11.544823   \n",
       "203000_at       6.985046      9.446125        12.684769   \n",
       "231771_at       5.608844      5.695147         4.601958   \n",
       "242128_at       4.845109      5.012456        10.729009   \n",
       "230303_at       5.913120      7.029332         7.980667   \n",
       "235066_at       5.428295      7.245082         9.470132   \n",
       "205551_at       6.255732      7.354266        10.466448   \n",
       "201292_at       8.312435      9.921030        11.183001   \n",
       "1556096_s_at    4.733767      5.926875         7.962087   \n",
       "205626_s_at     9.709628      6.427799         6.641395   \n",
       "244118_at       3.763480      4.433494         5.849084   \n",
       "239765_at       4.509748      5.438105         7.529430   \n",
       "240065_at      10.877876      5.480430         5.048728   \n",
       "228636_at       6.549916      6.788032        11.991340   \n",
       "221916_at       6.160308      7.986985         7.744881   \n",
       "\n",
       "              pilocytic_astrocytoma     normal  variance  \n",
       "1568612_at                 4.615742  11.354087  9.270301  \n",
       "221805_at                  5.506021  12.268795  9.175552  \n",
       "203001_s_at                7.682313  13.073175  8.461631  \n",
       "210016_at                  6.157811  11.413329  7.651900  \n",
       "206502_s_at                5.688730   8.239764  7.579641  \n",
       "208650_s_at                4.728293   6.186445  7.275984  \n",
       "203000_at                  8.059411  12.886813  7.175878  \n",
       "231771_at                  4.767646  11.027777  7.104692  \n",
       "242128_at                  4.392994   5.089728  7.020662  \n",
       "230303_at                  5.552178  11.995467  6.696378  \n",
       "235066_at                  6.152892  11.744193  6.693829  \n",
       "205551_at                  6.260320  11.859884  6.625736  \n",
       "201292_at                  6.868304   4.676963  6.514447  \n",
       "1556096_s_at               4.923418  10.820165  6.509639  \n",
       "205626_s_at                5.983607  11.834183  6.484015  \n",
       "244118_at                  3.885723   9.844689  6.435430  \n",
       "239765_at                  4.506330  10.439304  6.410024  \n",
       "240065_at                  5.414344   5.032038  6.390365  \n",
       "228636_at                  6.389667   9.916519  6.308417  \n",
       "221916_at                  6.853177  12.514232  6.206476  "
      ]
     },
     "execution_count": 47,
     "metadata": {},
     "output_type": "execute_result"
    }
   ],
   "source": [
    "highest_var_all.head(20)"
   ]
  },
  {
   "cell_type": "code",
   "execution_count": 48,
   "metadata": {},
   "outputs": [
    {
     "data": {
      "text/plain": [
       "Text(0, 0.5, 'Expression Levels')"
      ]
     },
     "execution_count": 48,
     "metadata": {},
     "output_type": "execute_result"
    },
    {
     "data": {
      "image/png": "[encoded data removed]",
      "text/plain": [
       "<Figure size 1152x504 with 1 Axes>"
      ]
     },
     "metadata": {
      "needs_background": "light"
     },
     "output_type": "display_data"
    }
   ],
   "source": [
    "highest_var.plot(kind = 'bar', figsize=(16,7), colormap='Set2',\n",
    "                edgecolor='white', linewidth=1, width=0.7)\n",
    "plt.legend(loc='center left', bbox_to_anchor=(1.0, 0.5))\n",
    "plt.title('Genes with the Greatest Variance in Expression')\n",
    "plt.ylabel('Expression Levels')"
   ]
  },
  {
   "cell_type": "markdown",
   "metadata": {},
   "source": [
    "## Several Genes are Downregulated in all Cancers in this Study\n",
    "- 221805_at is the probe that corresponds to the gene NEFL. The NEFL gene encodes the neurofilament light polypeptide, a subunit that forms type IV intermediate filament heteropolymers, which are a major component of the neuronal cytoskeleton.\n",
    "- The 231771_at probe corresponds to the GJB6 gene. GJB6 provides instructions for making a protein called gap junction beta 6, more commonly known as connexin 30. The connexin gene family codes for the protein subunits of gap junction channels that mediate direct diffusion of ions and metabolites between the cytoplasm of adjacent cells.\n",
    "- 230303_at corresponds to the SYNPR gene. It codes intrinsic membrane proteins of small synaptic vesicles.\n",
    "\n",
    "This study indicates these genes can potentially function as tumor suppressors."
   ]
  },
  {
   "cell_type": "markdown",
   "metadata": {},
   "source": [
    "## CD24 is Upregulated in all Tumors except Pilocytic Astrocytoma\n",
    "Th 208650_s_at probe corresponds the the CD24 gene, which is actively being investigated as an immunotherapy target. This gene encodes a sialoglycoprotein that is expressed on mature granulocytes and B cells and modulates growth and differentiation signals to these cells. \n"
   ]
  },
  {
   "cell_type": "code",
   "execution_count": 66,
   "metadata": {},
   "outputs": [],
   "source": [
    "X = df.drop(columns='type')\n",
    "y = df['type']"
   ]
  },
  {
   "cell_type": "code",
   "execution_count": 67,
   "metadata": {},
   "outputs": [],
   "source": [
    "y = LabelEncoder().fit_transform(y)\n",
    "# 0 = ependymoma\n",
    "# 1 = glioblastoma\n",
    "# 2 = medulloblastoma\n",
    "# 3 = normal\n",
    "# 4 = pilocytic_astrocytoma"
   ]
  },
  {
   "cell_type": "code",
   "execution_count": 68,
   "metadata": {},
   "outputs": [],
   "source": [
    "X_train, X_test, y_train, y_test = train_test_split(X, y, test_size = 0.2,stratify = y,random_state = 22)"
   ]
  },
  {
   "cell_type": "code",
   "execution_count": 69,
   "metadata": {},
   "outputs": [],
   "source": [
    "scaler = StandardScaler().fit(X_train)\n",
    "X_train = scaler.transform(X_train)\n",
    "X_test = scaler.transform(X_test)"
   ]
  },
  {
   "cell_type": "code",
   "execution_count": 70,
   "metadata": {},
   "outputs": [
    {
     "data": {
      "text/plain": [
       "array([[-4.41578546e+01, -4.51118947e+01,  2.55978610e+01, ...,\n",
       "        -1.05687588e+00, -4.54400309e+00,  4.91578492e-14],\n",
       "       [ 1.00681605e+02,  1.04188967e+02, -9.96509006e+01, ...,\n",
       "         1.57107564e+00,  6.46214592e-01,  4.91578492e-14],\n",
       "       [ 1.52939858e+02, -4.91439046e+01,  8.31693822e+00, ...,\n",
       "         1.13671169e+01, -1.07459398e+01,  4.91578492e-14],\n",
       "       ...,\n",
       "       [-1.10456320e+02, -7.81547913e+00, -1.91106985e+01, ...,\n",
       "        -3.09256812e-01, -1.89798492e+00,  4.91578492e-14],\n",
       "       [ 8.70516223e+01, -9.04411513e+01, -3.74544128e+01, ...,\n",
       "        -3.98656503e+01, -3.69200492e+01,  4.91578492e-14],\n",
       "       [-1.36889750e+02,  1.33088890e+02, -6.91548919e+01, ...,\n",
       "         3.98808388e-01,  4.60823203e-01,  4.91578492e-14]])"
      ]
     },
     "execution_count": 70,
     "metadata": {},
     "output_type": "execute_result"
    }
   ],
   "source": [
    "pca = PCA()\n",
    "pca.fit_transform(X_train)"
   ]
  },
  {
   "cell_type": "code",
   "execution_count": 71,
   "metadata": {},
   "outputs": [
    {
     "data": {
      "text/plain": [
       "97"
      ]
     },
     "execution_count": 71,
     "metadata": {},
     "output_type": "execute_result"
    }
   ],
   "source": [
    "total=sum(pca.explained_variance_)\n",
    "k=0\n",
    "current_variance=0\n",
    "while current_variance/total < 0.99:\n",
    "    current_variance += pca.explained_variance_[k]\n",
    "    k=k+1\n",
    "k"
   ]
  },
  {
   "cell_type": "code",
   "execution_count": 72,
   "metadata": {},
   "outputs": [],
   "source": [
    "pca = PCA(n_components=k)\n",
    "X_train_pca=pca.fit_transform(X_train)\n",
    "X_test_pca=pca.transform(X_test)"
   ]
  },
  {
   "cell_type": "code",
   "execution_count": 73,
   "metadata": {},
   "outputs": [
    {
     "data": {
      "image/png": "[encoded data removed]",
      "text/plain": [
       "<Figure size 432x288 with 1 Axes>"
      ]
     },
     "metadata": {
      "needs_background": "light"
     },
     "output_type": "display_data"
    }
   ],
   "source": [
    "cum_sum = pca.explained_variance_ratio_.cumsum()\n",
    "cum_sum = cum_sum*100\n",
    "plt.bar(range(k), cum_sum, color = 'r',alpha=0.3)\n",
    "plt.title(\"99% of variance is explained by 97 features\")\n",
    "plt.ylabel('cumulative explained variance')\n",
    "plt.xlabel('number of components')\n",
    "plt.locator_params(axis='y', nbins=10)\n"
   ]
  },
  {
   "cell_type": "code",
   "execution_count": 74,
   "metadata": {},
   "outputs": [],
   "source": [
    "def evaluate_model(X, y, model):\n",
    "    k = 5\n",
    "    rep = 3\n",
    "    cv = RepeatedStratifiedKFold(n_splits=k, n_repeats=rep, random_state=21)\n",
    "    score = cross_val_score(model, X, y, scoring='f1_weighted', cv=cv, n_jobs=-1)\n",
    "    return score\n",
    "\n",
    "def get_models():\n",
    "    models, names = list(), list()\n",
    "    \n",
    "    models.append(SVC())\n",
    "    names.append('SVC')\n",
    "    \n",
    "    models.append(KNeighborsClassifier())\n",
    "    names.append('KNN')\n",
    "    \n",
    "    models.append(BaggingClassifier())\n",
    "    names.append('BC')\n",
    "    \n",
    "    models.append(RandomForestClassifier())\n",
    "    names.append('RF')\n",
    "        \n",
    "    models.append(ExtraTreesClassifier())\n",
    "    names.append('ET')\n",
    "    \n",
    "    return models, names"
   ]
  },
  {
   "cell_type": "code",
   "execution_count": 97,
   "metadata": {},
   "outputs": [
    {
     "name": "stdout",
     "output_type": "stream",
     "text": [
      "SVC 0.846 (0.051)\n",
      "KNN 0.776 (0.104)\n",
      "BC 0.714 (0.078)\n",
      "RF 0.682 (0.097)\n",
      "ET 0.721 (0.116)\n"
     ]
    },
    {
     "data": {
      "image/png": "[encoded data removed]",
      "text/plain": [
       "<Figure size 432x288 with 1 Axes>"
      ]
     },
     "metadata": {
      "needs_background": "light"
     },
     "output_type": "display_data"
    }
   ],
   "source": [
    "models, names = get_models()\n",
    "results = list()\n",
    "\n",
    "for i in range(len(models)):\n",
    "    score = evaluate_model(X_train_pca, y_train, models[i])\n",
    "    results.append(score)\n",
    "    print('%s %.3f (%.3f)' % (names[i], np.mean(score), np.std(score)))\n",
    "\n",
    "plt.boxplot(results, labels=names)\n",
    "plt.title('Baseline Model Performance')\n",
    "\n",
    "plt.show()"
   ]
  },
  {
   "cell_type": "code",
   "execution_count": 87,
   "metadata": {},
   "outputs": [
    {
     "name": "stdout",
     "output_type": "stream",
     "text": [
      "Fitting 5 folds for each of 48 candidates, totalling 240 fits\n"
     ]
    },
    {
     "name": "stderr",
     "output_type": "stream",
     "text": [
      "[Parallel(n_jobs=1)]: Using backend SequentialBackend with 1 concurrent workers.\n",
      "[Parallel(n_jobs=1)]: Done 240 out of 240 | elapsed:    0.6s finished\n"
     ]
    },
    {
     "data": {
      "text/plain": [
       "GridSearchCV(estimator=SVC(),\n",
       "             param_grid={'C': [0.1, 1, 10, 100], 'gamma': [1, 0.1, 0.01, 0.001],\n",
       "                         'kernel': ['rbf', 'poly', 'sigmoid']},\n",
       "             verbose=1)"
      ]
     },
     "execution_count": 87,
     "metadata": {},
     "output_type": "execute_result"
    }
   ],
   "source": [
    "param_grid = {'C': [0.1,1, 10, 100], 'gamma': [1,0.1,0.01,0.001],'kernel': ['rbf', 'poly', 'sigmoid']}\n",
    "grid = GridSearchCV(SVC(), param_grid, refit=True, verbose=1)\n",
    "grid.fit(X_train_pca, y_train)"
   ]
  },
  {
   "cell_type": "code",
   "execution_count": 88,
   "metadata": {},
   "outputs": [
    {
     "name": "stdout",
     "output_type": "stream",
     "text": [
      "SVC(C=0.1, gamma=1, kernel='poly')\n"
     ]
    }
   ],
   "source": [
    "print(grid.best_estimator_)"
   ]
  },
  {
   "cell_type": "code",
   "execution_count": 90,
   "metadata": {},
   "outputs": [
    {
     "name": "stdout",
     "output_type": "stream",
     "text": [
      "Confusion Matrix \n",
      " [[8 0 0 0 1]\n",
      " [0 6 0 0 1]\n",
      " [1 0 3 0 0]\n",
      " [1 0 0 2 0]\n",
      " [0 0 0 0 3]] \n",
      "\n",
      "                       precision    recall  f1-score   support\n",
      "\n",
      "           ependymoma       0.80      0.89      0.84         9\n",
      "         glioblastoma       1.00      0.86      0.92         7\n",
      "      medulloblastoma       1.00      0.75      0.86         4\n",
      "               normal       1.00      0.67      0.80         3\n",
      "pilocytic astrocytoma       0.60      1.00      0.75         3\n",
      "\n",
      "             accuracy                           0.85        26\n",
      "            macro avg       0.88      0.83      0.83        26\n",
      "         weighted avg       0.88      0.85      0.85        26\n",
      "\n"
     ]
    }
   ],
   "source": [
    "grid_predictions = grid.predict(X_test_pca)\n",
    "print('Confusion Matrix \\n', confusion_matrix(y_test, grid_predictions), '\\n')\n",
    "target_names = ['ependymoma', 'glioblastoma', 'medulloblastoma', 'normal', 'pilocytic astrocytoma']\n",
    "print(classification_report(y_test, grid_predictions, target_names=target_names))"
   ]
  },
  {
   "cell_type": "markdown",
   "metadata": {},
   "source": [
    "## This model had an overall 85% accuracy of correctly identifying the tumor type in this dataset.\n",
    "\n",
    "This dataset was relatively small (130 samples) which limited the training capability of the model. The model performace would be improved as more data is collected. Further insights could also be gained from the evaluation of the gene expression variance."
   ]
  },
  {
   "cell_type": "code",
   "execution_count": null,
   "metadata": {},
   "outputs": [],
   "source": []
  }
 ],
 "metadata": {
  "kernelspec": {
   "display_name": "Python 3",
   "language": "python",
   "name": "python3"
  },
  "language_info": {
   "codemirror_mode": {
    "name": "ipython",
    "version": 3
   },
   "file_extension": ".py",
   "mimetype": "text/x-python",
   "name": "python",
   "nbconvert_exporter": "python",
   "pygments_lexer": "ipython3",
   "version": "3.8.5"
  }
 },
 "nbformat": 4,
 "nbformat_minor": 4
}
